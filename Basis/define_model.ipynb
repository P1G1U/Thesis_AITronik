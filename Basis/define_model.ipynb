{
 "cells": [
  {
   "cell_type": "markdown",
   "metadata": {},
   "source": [
    "#define model"
   ]
  },
  {
   "cell_type": "code",
   "execution_count": 1,
   "metadata": {},
   "outputs": [
    {
     "name": "stderr",
     "output_type": "stream",
     "text": [
      "2022-04-12 16:56:17.956638: I tensorflow/stream_executor/cuda/cuda_gpu_executor.cc:936] successful NUMA node read from SysFS had negative value (-1), but there must be at least one NUMA node, so returning NUMA node zero\n",
      "2022-04-12 16:56:17.963952: I tensorflow/stream_executor/cuda/cuda_gpu_executor.cc:936] successful NUMA node read from SysFS had negative value (-1), but there must be at least one NUMA node, so returning NUMA node zero\n",
      "2022-04-12 16:56:17.964358: I tensorflow/stream_executor/cuda/cuda_gpu_executor.cc:936] successful NUMA node read from SysFS had negative value (-1), but there must be at least one NUMA node, so returning NUMA node zero\n",
      "2022-04-12 16:56:17.965785: I tensorflow/stream_executor/cuda/cuda_gpu_executor.cc:936] successful NUMA node read from SysFS had negative value (-1), but there must be at least one NUMA node, so returning NUMA node zero\n",
      "2022-04-12 16:56:17.966007: I tensorflow/stream_executor/cuda/cuda_gpu_executor.cc:936] successful NUMA node read from SysFS had negative value (-1), but there must be at least one NUMA node, so returning NUMA node zero\n",
      "2022-04-12 16:56:17.966205: I tensorflow/stream_executor/cuda/cuda_gpu_executor.cc:936] successful NUMA node read from SysFS had negative value (-1), but there must be at least one NUMA node, so returning NUMA node zero\n",
      "2022-04-12 16:56:18.684933: I tensorflow/stream_executor/cuda/cuda_gpu_executor.cc:936] successful NUMA node read from SysFS had negative value (-1), but there must be at least one NUMA node, so returning NUMA node zero\n",
      "2022-04-12 16:56:18.685237: I tensorflow/stream_executor/cuda/cuda_gpu_executor.cc:936] successful NUMA node read from SysFS had negative value (-1), but there must be at least one NUMA node, so returning NUMA node zero\n",
      "2022-04-12 16:56:18.685479: I tensorflow/stream_executor/cuda/cuda_gpu_executor.cc:936] successful NUMA node read from SysFS had negative value (-1), but there must be at least one NUMA node, so returning NUMA node zero\n",
      "2022-04-12 16:56:18.685647: I tensorflow/core/common_runtime/gpu/gpu_process_state.cc:214] Using CUDA malloc Async allocator for GPU: 0\n",
      "2022-04-12 16:56:18.685893: I tensorflow/core/common_runtime/gpu/gpu_device.cc:1525] Created device /job:localhost/replica:0/task:0/device:GPU:0 with 1024 MB memory:  -> device: 0, name: NVIDIA GeForce GTX 1050, pci bus id: 0000:02:00.0, compute capability: 6.1\n"
     ]
    }
   ],
   "source": [
    "import tensorflow as tf\n",
    "from tensorflow.keras import layers, models, backend, losses\n",
    "from data_mgmt import DAO\n",
    "import matplotlib.pyplot as plt\n",
    "import numpy as np\n",
    "import os\n",
    "\n",
    "os.environ['TF_GPU_ALLOCATOR']='cuda_malloc_async'\n",
    "os.environ[\"TF_CPP_VMODULE\"]=\"gpu_process_state=10,gpu_cudamallocasync_allocator=10\"\n",
    "\n",
    "gpus = tf.config.experimental.list_physical_devices('GPU')\n",
    "if gpus:\n",
    "    try:\n",
    "        # Currently, memory growth needs to be the same across GPUs\n",
    "        for gpu in gpus:\n",
    "            tf.config.set_logical_device_configuration(\n",
    "                gpu,\n",
    "                [tf.config.LogicalDeviceConfiguration(memory_limit=1024)])\n",
    "\n",
    "        logical_gpus = tf.config.experimental.list_logical_devices('GPU')\n",
    "\n",
    "    except RuntimeError as e:\n",
    "        # Memory growth must be set before GPUs have been initialized\n",
    "        print(e)"
   ]
  },
  {
   "cell_type": "code",
   "execution_count": 2,
   "metadata": {},
   "outputs": [],
   "source": [
    "def model_define(data_input, drop_rate):\n",
    "\n",
    "    inputs = layers.Input(shape=(data_input.shape[1],data_input.shape[2],data_input.shape[3]))\n",
    "\n",
    "    conv_1 = layers.Conv2D(\n",
    "        16, (11,1), padding=\"same\",\n",
    "        name=\"conv_1\" )(inputs)\n",
    "    conv_2 = layers.Conv2D(\n",
    "        32, kernel_size=(5,1), padding=\"same\",\n",
    "        name=\"conv_2\" )(conv_1)\n",
    "    pool_1 = layers.MaxPooling2D(\n",
    "        (2,1), strides=2, padding=\"same\",\n",
    "        name=\"pool_1\" )(conv_2)\n",
    "    conv_3 = layers.Conv2D(\n",
    "        128, kernel_size=(5,1), padding=\"same\",\n",
    "        name=\"conv_3\" )(pool_1)\n",
    "    pool_2 = layers.MaxPooling2D(\n",
    "        (2,1), strides=2, padding=\"same\",\n",
    "        name=\"pool_2\" )(conv_3)\n",
    "\n",
    "    flat = layers.Flatten()(pool_2)\n",
    "    flat_dropout = layers.Dropout(drop_rate)(flat)\n",
    "    \n",
    "    #position\n",
    "    pos_dense_1 = layers.Dense(512, activation=\"relu\", name=\"hidden_pos_1\")(flat_dropout)\n",
    "    pos_dropout = layers.Dropout(drop_rate)(pos_dense_1)\n",
    "    pos_dense_2 = layers.Dense(128,name=\"hidden_pos_2\")(pos_dropout)\n",
    "    pos_result = layers.Dense(2,name=\"pos_output\")(pos_dense_2)\n",
    "\n",
    "    #rotation\n",
    "    rot_dense_1 = layers.Dense(512, activation=\"relu\", name=\"hidden_rot_1\")(flat_dropout)\n",
    "    rot_dropout = layers.Dropout(drop_rate)(rot_dense_1)\n",
    "    rot_dense_2 = layers.Dense(128,name=\"hidden_rot\")(rot_dropout)\n",
    "    rot_result = layers.Dense(1,name=\"rot_output\")(rot_dense_2)\n",
    "\n",
    "    return models.Model(inputs, [pos_result,rot_result])\n",
    "\n",
    "beta = 0.2\n",
    "\n",
    "def loss_fn(y_true, y_pred):\n",
    "\n",
    "    pos_loss = losses.MeanSquaredError()(y_true[0], y_pred[0])\n",
    "    rot_loss = losses.MeanAbsoluteError()(y_true[1], y_pred[1])\n",
    "\n",
    "    return layers.Add()([pos_loss, rot_loss])\n",
    "\n",
    "#def pos_loss(y_actual, y_pred):\n",
    "    #loss_value = (1-beta)*(backend.sqrt(backend.pow((y_actual[:,0,0]-y_pred[:,0,0]),2)+backend.pow((y_actual[:,0,1]-y_pred[:,0,1]),2)))+(beta*(backend.sqrt(backend.pow((y_actual[:,1]-y_pred[:,1]),2))))\n",
    "    #loss_value =backend.sqrt(backend.pow((y_actual[0]-y_pred[0]),2)+backend.pow((y_actual[1]-y_pred[1]),2))\n",
    "    #return loss_value"
   ]
  },
  {
   "cell_type": "code",
   "execution_count": 3,
   "metadata": {},
   "outputs": [],
   "source": [
    "filename=\"laser_log/laser_log2203.csv\"\n",
    "\n",
    "data = DAO(filename)\n",
    "\n",
    "data.read()\n",
    "data.divide_data(0.25)"
   ]
  },
  {
   "cell_type": "markdown",
   "metadata": {},
   "source": [
    "#format the data"
   ]
  },
  {
   "cell_type": "code",
   "execution_count": 4,
   "metadata": {},
   "outputs": [],
   "source": [
    "data.TR_features=tf.reshape(data.TR_features,[-1,720,1,1])\n",
    "data.TS_features=tf.reshape(data.TS_features,[-1,720,1,1])\n",
    "data.TR_targets=tf.reshape(data.TR_targets,[-1,3])\n",
    "data.TS_targets=tf.reshape(data.TS_targets,[-1,3])"
   ]
  },
  {
   "cell_type": "code",
   "execution_count": 5,
   "metadata": {},
   "outputs": [],
   "source": [
    "data.TR_targets_pos = tf.gather(data.TR_targets,[0,1],axis=1)\n",
    "data.TS_targets_pos = tf.gather(data.TS_targets,[0,1],axis=1)\n",
    "data.TR_targets_rot = tf.gather(data.TR_targets,[2],axis=1)\n",
    "data.TS_targets_rot = tf.gather(data.TS_targets,[2],axis=1)"
   ]
  },
  {
   "cell_type": "markdown",
   "metadata": {},
   "source": [
    "#Training model"
   ]
  },
  {
   "cell_type": "code",
   "execution_count": 6,
   "metadata": {},
   "outputs": [],
   "source": [
    "model_cnn = model_define(data.TR_features,0.2)"
   ]
  },
  {
   "cell_type": "code",
   "execution_count": 9,
   "metadata": {},
   "outputs": [],
   "source": [
    "model_cnn.compile(optimizer = \"adam\",\n",
    "    loss=loss_fn\n",
    "    )"
   ]
  },
  {
   "cell_type": "code",
   "execution_count": 25,
   "metadata": {},
   "outputs": [
    {
     "name": "stdout",
     "output_type": "stream",
     "text": [
      "Model: \"model_1\"\n",
      "__________________________________________________________________________________________________\n",
      " Layer (type)                   Output Shape         Param #     Connected to                     \n",
      "==================================================================================================\n",
      " input_14 (InputLayer)          [(None, 720, 1, 1)]  0           []                               \n",
      "                                                                                                  \n",
      " conv_1 (Conv2D)                (None, 720, 1, 16)   192         ['input_14[0][0]']               \n",
      "                                                                                                  \n",
      " conv_2 (Conv2D)                (None, 720, 1, 32)   2592        ['conv_1[0][0]']                 \n",
      "                                                                                                  \n",
      " pool_1 (MaxPooling2D)          (None, 360, 1, 32)   0           ['conv_2[0][0]']                 \n",
      "                                                                                                  \n",
      " conv_3 (Conv2D)                (None, 360, 1, 128)  20608       ['pool_1[0][0]']                 \n",
      "                                                                                                  \n",
      " pool_2 (MaxPooling2D)          (None, 180, 1, 128)  0           ['conv_3[0][0]']                 \n",
      "                                                                                                  \n",
      " flatten_1 (Flatten)            (None, 23040)        0           ['pool_2[0][0]']                 \n",
      "                                                                                                  \n",
      " dropout_3 (Dropout)            (None, 23040)        0           ['flatten_1[0][0]']              \n",
      "                                                                                                  \n",
      " hidden_pos_1 (Dense)           (None, 512)          11796992    ['dropout_3[0][0]']              \n",
      "                                                                                                  \n",
      " hidden_rot_1 (Dense)           (None, 512)          11796992    ['dropout_3[0][0]']              \n",
      "                                                                                                  \n",
      " dropout_4 (Dropout)            (None, 512)          0           ['hidden_pos_1[0][0]']           \n",
      "                                                                                                  \n",
      " dropout_5 (Dropout)            (None, 512)          0           ['hidden_rot_1[0][0]']           \n",
      "                                                                                                  \n",
      " hidden_pos_2 (Dense)           (None, 128)          65664       ['dropout_4[0][0]']              \n",
      "                                                                                                  \n",
      " hidden_rot (Dense)             (None, 128)          65664       ['dropout_5[0][0]']              \n",
      "                                                                                                  \n",
      " pos_output (Dense)             (None, 2)            258         ['hidden_pos_2[0][0]']           \n",
      "                                                                                                  \n",
      " rot_output (Dense)             (None, 1)            129         ['hidden_rot[0][0]']             \n",
      "                                                                                                  \n",
      "==================================================================================================\n",
      "Total params: 23,749,091\n",
      "Trainable params: 23,749,091\n",
      "Non-trainable params: 0\n",
      "__________________________________________________________________________________________________\n"
     ]
    }
   ],
   "source": [
    "model_cnn.summary()"
   ]
  },
  {
   "cell_type": "code",
   "execution_count": 10,
   "metadata": {},
   "outputs": [
    {
     "name": "stdout",
     "output_type": "stream",
     "text": [
      "Epoch 1/15\n"
     ]
    },
    {
     "name": "stderr",
     "output_type": "stream",
     "text": [
      "2022-04-12 17:13:56.660084: I tensorflow/stream_executor/cuda/cuda_dnn.cc:368] Loaded cuDNN version 8100\n"
     ]
    },
    {
     "name": "stdout",
     "output_type": "stream",
     "text": [
      "130/130 [==============================] - 6s 26ms/step - loss: 2462.5361 - pos_output_loss: 1077.6797 - rot_output_loss: 1384.8569 - val_loss: 128.8943 - val_pos_output_loss: 17.1710 - val_rot_output_loss: 111.7233\n",
      "Epoch 2/15\n",
      "130/130 [==============================] - 3s 23ms/step - loss: 42.4122 - pos_output_loss: 17.8665 - rot_output_loss: 24.5457 - val_loss: 24.5828 - val_pos_output_loss: 18.8621 - val_rot_output_loss: 5.7206\n",
      "Epoch 3/15\n",
      "130/130 [==============================] - 3s 23ms/step - loss: 18.9462 - pos_output_loss: 11.0461 - rot_output_loss: 7.9001 - val_loss: 11.6911 - val_pos_output_loss: 7.8831 - val_rot_output_loss: 3.8080\n",
      "Epoch 4/15\n",
      "130/130 [==============================] - 3s 23ms/step - loss: 13.9230 - pos_output_loss: 9.8791 - rot_output_loss: 4.0439 - val_loss: 10.9106 - val_pos_output_loss: 7.2278 - val_rot_output_loss: 3.6828\n",
      "Epoch 5/15\n",
      "130/130 [==============================] - 3s 24ms/step - loss: 14.4584 - pos_output_loss: 10.5034 - rot_output_loss: 3.9550 - val_loss: 12.1043 - val_pos_output_loss: 8.4539 - val_rot_output_loss: 3.6504\n",
      "Epoch 6/15\n",
      "130/130 [==============================] - 3s 23ms/step - loss: 14.3357 - pos_output_loss: 9.7446 - rot_output_loss: 4.5911 - val_loss: 17.1734 - val_pos_output_loss: 11.9038 - val_rot_output_loss: 5.2696\n",
      "Epoch 7/15\n",
      "130/130 [==============================] - 3s 23ms/step - loss: 13.7146 - pos_output_loss: 8.6338 - rot_output_loss: 5.0808 - val_loss: 9.6242 - val_pos_output_loss: 6.3178 - val_rot_output_loss: 3.3064\n",
      "Epoch 8/15\n",
      "130/130 [==============================] - 3s 23ms/step - loss: 11.8354 - pos_output_loss: 8.7996 - rot_output_loss: 3.0358 - val_loss: 10.4540 - val_pos_output_loss: 7.2389 - val_rot_output_loss: 3.2152\n",
      "Epoch 9/15\n",
      "130/130 [==============================] - 3s 23ms/step - loss: 12.3169 - pos_output_loss: 9.3918 - rot_output_loss: 2.9251 - val_loss: 9.7106 - val_pos_output_loss: 6.4358 - val_rot_output_loss: 3.2748\n",
      "Epoch 10/15\n",
      "130/130 [==============================] - 3s 23ms/step - loss: 9.3985 - pos_output_loss: 6.9767 - rot_output_loss: 2.4217 - val_loss: 9.1106 - val_pos_output_loss: 5.8159 - val_rot_output_loss: 3.2946\n",
      "Epoch 11/15\n",
      "130/130 [==============================] - 3s 23ms/step - loss: 10.9717 - pos_output_loss: 8.1563 - rot_output_loss: 2.8155 - val_loss: 8.6192 - val_pos_output_loss: 5.4175 - val_rot_output_loss: 3.2017\n",
      "Epoch 12/15\n",
      "130/130 [==============================] - 3s 24ms/step - loss: 8.7620 - pos_output_loss: 6.7641 - rot_output_loss: 1.9979 - val_loss: 9.9214 - val_pos_output_loss: 7.0180 - val_rot_output_loss: 2.9034\n",
      "Epoch 13/15\n",
      "130/130 [==============================] - 3s 24ms/step - loss: 10.6753 - pos_output_loss: 7.9450 - rot_output_loss: 2.7303 - val_loss: 8.4558 - val_pos_output_loss: 5.4871 - val_rot_output_loss: 2.9687\n",
      "Epoch 14/15\n",
      "130/130 [==============================] - 3s 24ms/step - loss: 8.4488 - pos_output_loss: 6.5705 - rot_output_loss: 1.8783 - val_loss: 9.2417 - val_pos_output_loss: 6.4684 - val_rot_output_loss: 2.7733\n",
      "Epoch 15/15\n",
      "130/130 [==============================] - 3s 24ms/step - loss: 7.7303 - pos_output_loss: 5.9024 - rot_output_loss: 1.8279 - val_loss: 9.6608 - val_pos_output_loss: 6.9217 - val_rot_output_loss: 2.7391\n"
     ]
    }
   ],
   "source": [
    "\n",
    "history = model_cnn.fit(data.TR_features, \n",
    "    [data.TR_targets_pos,data.TR_targets_rot], \n",
    "    epochs=15, \n",
    "    batch_size=16,\n",
    "    validation_data=(data.TS_features, [data.TS_targets_pos,data.TS_targets_rot])\n",
    "    )\n"
   ]
  },
  {
   "cell_type": "code",
   "execution_count": 17,
   "metadata": {},
   "outputs": [
    {
     "ename": "KeyError",
     "evalue": "'mean_absolute_error'",
     "output_type": "error",
     "traceback": [
      "\u001b[0;31m---------------------------------------------------------------------------\u001b[0m",
      "\u001b[0;31mKeyError\u001b[0m                                  Traceback (most recent call last)",
      "\u001b[1;32m/home/ait_guest/Desktop/LP_thesis/Codice/thesis_AITronik/Basis/define_model.ipynb Cell 13'\u001b[0m in \u001b[0;36m<cell line: 1>\u001b[0;34m()\u001b[0m\n\u001b[0;32m----> <a href='vscode-notebook-cell:/home/ait_guest/Desktop/LP_thesis/Codice/thesis_AITronik/Basis/define_model.ipynb#ch0000012?line=0'>1</a>\u001b[0m plt\u001b[39m.\u001b[39mplot(history\u001b[39m.\u001b[39;49mhistory[\u001b[39m'\u001b[39;49m\u001b[39mmean_absolute_error\u001b[39;49m\u001b[39m'\u001b[39;49m], label\u001b[39m=\u001b[39m\u001b[39m'\u001b[39m\u001b[39mmean_absolute_error\u001b[39m\u001b[39m'\u001b[39m)\n\u001b[1;32m      <a href='vscode-notebook-cell:/home/ait_guest/Desktop/LP_thesis/Codice/thesis_AITronik/Basis/define_model.ipynb#ch0000012?line=1'>2</a>\u001b[0m plt\u001b[39m.\u001b[39mplot(history\u001b[39m.\u001b[39mhistory[\u001b[39m'\u001b[39m\u001b[39mval_mean_absolute_error\u001b[39m\u001b[39m'\u001b[39m], label \u001b[39m=\u001b[39m \u001b[39m'\u001b[39m\u001b[39mval_mean_absolute_error\u001b[39m\u001b[39m'\u001b[39m)\n\u001b[1;32m      <a href='vscode-notebook-cell:/home/ait_guest/Desktop/LP_thesis/Codice/thesis_AITronik/Basis/define_model.ipynb#ch0000012?line=2'>3</a>\u001b[0m plt\u001b[39m.\u001b[39mxlabel(\u001b[39m'\u001b[39m\u001b[39mEpoch\u001b[39m\u001b[39m'\u001b[39m)\n",
      "\u001b[0;31mKeyError\u001b[0m: 'mean_absolute_error'"
     ]
    }
   ],
   "source": [
    "plt.plot(history.history['mean_absolute_error'], label='mean_absolute_error')\n",
    "plt.plot(history.history['val_mean_absolute_error'], label = 'val_mean_absolute_error')\n",
    "plt.xlabel('Epoch')\n",
    "plt.ylabel('Mean Absolute Error')\n",
    "#plt.ylim([0.5, 1])\n",
    "plt.legend(loc='upper right')\n",
    "\n",
    "test_loss, test_acc = model_cnn.evaluate(data.TS_features,  data.TS_targets, verbose=2)\n"
   ]
  },
  {
   "cell_type": "code",
   "execution_count": 13,
   "metadata": {},
   "outputs": [
    {
     "name": "stdout",
     "output_type": "stream",
     "text": [
      "22/22 - 0s - loss: 9.5194 - pos_output_loss: 7.0065 - rot_output_loss: 2.5129 - 172ms/epoch - 8ms/step\n"
     ]
    },
    {
     "data": {
      "image/png": "[encoded data removed]",
      "text/plain": [
       "<Figure size 432x288 with 1 Axes>"
      ]
     },
     "metadata": {
      "needs_background": "light"
     },
     "output_type": "display_data"
    }
   ],
   "source": [
    "plt.plot(history.history['loss'], label='loss')\n",
    "plt.plot(history.history['val_loss'], label = 'val_loss')\n",
    "plt.xlabel('Epoch')\n",
    "plt.ylabel('Loss')\n",
    "#plt.ylim([0.5, 1])\n",
    "plt.yscale(\"log\")\n",
    "plt.legend(loc='upper right')\n",
    "\n",
    "test_loss = model_cnn.evaluate(data.TS_features, [data.TS_targets_pos, data.TS_targets_rot], verbose=2)\n"
   ]
  },
  {
   "cell_type": "markdown",
   "metadata": {},
   "source": [
    "#save/load model weights"
   ]
  },
  {
   "cell_type": "code",
   "execution_count": null,
   "metadata": {},
   "outputs": [],
   "source": [
    "checkpoint_path=\"models/cp-{epoch}.ckpt\"\n",
    "\n",
    "cp_callback = tf.keras.callbacks.ModelCheckpoint(\n",
    "    filepath=checkpoint_path, \n",
    "    verbose=1, \n",
    "    save_weights_only=True,\n",
    "    save_freq=5*batch_size)\n"
   ]
  },
  {
   "cell_type": "code",
   "execution_count": 10,
   "metadata": {},
   "outputs": [
    {
     "name": "stderr",
     "output_type": "stream",
     "text": [
      "2022-03-16 17:27:21.360906: W tensorflow/python/util/util.cc:368] Sets are not currently considered sequences, but this may change in the future, so consider avoiding using them.\n"
     ]
    },
    {
     "name": "stdout",
     "output_type": "stream",
     "text": [
      "INFO:tensorflow:Assets written to: models/cp-epoch15-23M.ckpt/assets\n"
     ]
    }
   ],
   "source": [
    "#save Model weights\n",
    "model_cnn.save(\"models/cp-epoch15-23M.ckpt\")"
   ]
  },
  {
   "cell_type": "code",
   "execution_count": null,
   "metadata": {},
   "outputs": [],
   "source": [
    "#load Model weights\n",
    "model_cnn.load_weights(\"models/cp-epoch15-23M.ckpt\")"
   ]
  },
  {
   "cell_type": "markdown",
   "metadata": {},
   "source": [
    "#analysis test data"
   ]
  },
  {
   "cell_type": "code",
   "execution_count": 43,
   "metadata": {},
   "outputs": [],
   "source": [
    "result = model_cnn.predict(data.TS_features)"
   ]
  },
  {
   "cell_type": "code",
   "execution_count": 44,
   "metadata": {},
   "outputs": [],
   "source": [
    "pos_test = result[:,0:2]\n",
    "rot_test = result[:,2]"
   ]
  },
  {
   "cell_type": "code",
   "execution_count": null,
   "metadata": {},
   "outputs": [],
   "source": [
    "#reformat data\n",
    "\n",
    "data.read()\n",
    "data.divide_data(0.25)"
   ]
  },
  {
   "cell_type": "code",
   "execution_count": 47,
   "metadata": {},
   "outputs": [],
   "source": [
    "pos_real = np.array([data.TS_targets[\"pos_x\"].to_list(),data.TS_targets[\"pos_y\"].to_list()]).T\n",
    "rot_real = (data.TS_targets[\"pos_yaw\"]).to_numpy()"
   ]
  },
  {
   "cell_type": "code",
   "execution_count": 48,
   "metadata": {},
   "outputs": [],
   "source": [
    "pos_mse, rot_mse = 0,0\n",
    "\n",
    "for i in range(len(pos_real)):\n",
    "    pos_mse += (np.sqrt(((pos_real[i,0]-pos_test[i,0])**2)+((pos_real[i,1]-pos_test[i,1])**2)))/len(pos_test)\n",
    "\n",
    "for i in range(len(rot_real)):\n",
    "    rot_mse += np.sqrt((rot_real[i]-rot_test[0])**2)/len(rot_real)\n"
   ]
  }
 ],
 "metadata": {
  "interpreter": {
   "hash": "36cf16204b8548560b1c020c4e8fb5b57f0e4c58016f52f2d4be01e192833930"
  },
  "kernelspec": {
   "display_name": "Python 3.9.10 64-bit",
   "name": "python3"
  },
  "language_info": {
   "codemirror_mode": {
    "name": "ipython",
    "version": 3
   },
   "file_extension": ".py",
   "mimetype": "text/x-python",
   "name": "python",
   "nbconvert_exporter": "python",
   "pygments_lexer": "ipython3",
   "version": "3.9.11"
  },
  "orig_nbformat": 4
 },
 "nbformat": 4,
 "nbformat_minor": 2
}
