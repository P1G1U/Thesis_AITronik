{
 "cells": [
  {
   "cell_type": "markdown",
   "metadata": {},
   "source": [
    "#define model"
   ]
  },
  {
   "cell_type": "code",
   "execution_count": 1,
   "metadata": {},
   "outputs": [],
   "source": [
    "import tensorflow as tf\n",
    "from tensorflow.keras import layers, models, backend\n",
    "from data_mgmt import DAO\n",
    "import matplotlib.pyplot as plt\n",
    "import numpy as np"
   ]
  },
  {
   "cell_type": "code",
   "execution_count": 2,
   "metadata": {},
   "outputs": [],
   "source": [
    "def model_define(drop_rate):\n",
    "\n",
    "    model = models.Sequential()\n",
    "\n",
    "    model.add(layers.Conv2D(\n",
    "        32, (11,1), padding=\"same\", input_shape=(720,1,1),\n",
    "        name=\"conv_1\" ))\n",
    "    model.add(layers.Conv2D(\n",
    "        64, kernel_size=(5,1), padding=\"same\",\n",
    "        name=\"conv_2\" ))\n",
    "    model.add(layers.MaxPooling2D(\n",
    "        (2,1), strides=2, padding=\"same\",\n",
    "        name=\"pool_1\" ))\n",
    "    model.add(layers.Conv2D(\n",
    "        256, kernel_size=(5,1), padding=\"same\",\n",
    "        name=\"conv_3\" ))\n",
    "    model.add(layers.MaxPooling2D(\n",
    "        (2,1), strides=4, padding=\"same\",\n",
    "        name=\"pool_2\" ))\n",
    "\n",
    "    model.add(layers.Flatten())\n",
    "\n",
    "    model.add(layers.Dropout(drop_rate))\n",
    "    model.add(layers.Dense(1024, activation=\"relu\", name=\"dense_1\"))\n",
    "\n",
    "    model.add(layers.Dropout(drop_rate))\n",
    "    model.add(layers.Dense(128, activation=\"relu\", name=\"dense_2\"))\n",
    "\n",
    "    model.add(layers.Dense(3, name=\"dense_3\"))\n",
    "\n",
    "    return model\n",
    "\n",
    "beta = 0.2\n",
    "\n",
    "def pos_loss(y_actual, y_pred):\n",
    "    loss_value = (1-beta)*(backend.sqrt(backend.pow((y_actual[:,0]-y_pred[:,0]),2)+backend.pow((y_actual[:,1]-y_pred[:,1]),2)))+(beta*(backend.sqrt(backend.pow((y_actual[:,2]-y_pred[:,2]),2))))\n",
    "    return loss_value"
   ]
  },
  {
   "cell_type": "code",
   "execution_count": 46,
   "metadata": {},
   "outputs": [],
   "source": [
    "filename=\"laser_log/laser_log.csv\"\n",
    "\n",
    "data = DAO(filename)\n",
    "\n",
    "data.read()\n",
    "data.divide_data(0.25)"
   ]
  },
  {
   "cell_type": "code",
   "execution_count": 3,
   "metadata": {},
   "outputs": [
    {
     "name": "stderr",
     "output_type": "stream",
     "text": [
      "2022-03-17 16:00:34.573188: I tensorflow/stream_executor/cuda/cuda_gpu_executor.cc:936] successful NUMA node read from SysFS had negative value (-1), but there must be at least one NUMA node, so returning NUMA node zero\n",
      "2022-03-17 16:00:34.765924: W tensorflow/stream_executor/platform/default/dso_loader.cc:64] Could not load dynamic library 'libcudnn.so.8'; dlerror: libcudnn.so.8: cannot open shared object file: No such file or directory\n",
      "2022-03-17 16:00:34.765961: W tensorflow/core/common_runtime/gpu/gpu_device.cc:1850] Cannot dlopen some GPU libraries. Please make sure the missing libraries mentioned above are installed properly if you would like to use GPU. Follow the guide at https://www.tensorflow.org/install/gpu for how to download and setup the required libraries for your platform.\n",
      "Skipping registering GPU devices...\n"
     ]
    }
   ],
   "source": [
    "model_cnn = model_define(0.2)"
   ]
  },
  {
   "cell_type": "code",
   "execution_count": 59,
   "metadata": {},
   "outputs": [],
   "source": [
    "model_cnn.compile(optimizer = \"adam\",\n",
    "    loss=pos_loss,\n",
    "    metrics=['mean_absolute_error'])"
   ]
  },
  {
   "cell_type": "code",
   "execution_count": 60,
   "metadata": {},
   "outputs": [
    {
     "name": "stdout",
     "output_type": "stream",
     "text": [
      "Model: \"sequential_6\"\n",
      "_________________________________________________________________\n",
      " Layer (type)                Output Shape              Param #   \n",
      "=================================================================\n",
      " conv_1 (Conv2D)             (None, 720, 1, 32)        384       \n",
      "                                                                 \n",
      " conv_2 (Conv2D)             (None, 720, 1, 64)        10304     \n",
      "                                                                 \n",
      " pool_1 (MaxPooling2D)       (None, 360, 1, 64)        0         \n",
      "                                                                 \n",
      " conv_3 (Conv2D)             (None, 360, 1, 256)       82176     \n",
      "                                                                 \n",
      " pool_2 (MaxPooling2D)       (None, 90, 1, 256)        0         \n",
      "                                                                 \n",
      " flatten_6 (Flatten)         (None, 23040)             0         \n",
      "                                                                 \n",
      " dropout_12 (Dropout)        (None, 23040)             0         \n",
      "                                                                 \n",
      " dense_1 (Dense)             (None, 1024)              23593984  \n",
      "                                                                 \n",
      " dropout_13 (Dropout)        (None, 1024)              0         \n",
      "                                                                 \n",
      " dense_2 (Dense)             (None, 128)               131200    \n",
      "                                                                 \n",
      " dense_3 (Dense)             (None, 3)                 387       \n",
      "                                                                 \n",
      "=================================================================\n",
      "Total params: 23,818,435\n",
      "Trainable params: 23,818,435\n",
      "Non-trainable params: 0\n",
      "_________________________________________________________________\n"
     ]
    }
   ],
   "source": [
    "model_cnn.summary()"
   ]
  },
  {
   "cell_type": "markdown",
   "metadata": {},
   "source": [
    "#format the data"
   ]
  },
  {
   "cell_type": "code",
   "execution_count": 41,
   "metadata": {},
   "outputs": [],
   "source": [
    "data.TR_features=tf.reshape(data.TR_features,[-1,720,1,1])\n",
    "data.TS_features=tf.reshape(data.TS_features,[-1,720,1,1])\n",
    "data.TR_targets=tf.reshape(data.TR_targets,[-1,3])\n",
    "data.TS_targets=tf.reshape(data.TS_targets,[-1,3])"
   ]
  },
  {
   "cell_type": "markdown",
   "metadata": {},
   "source": [
    "#Training model"
   ]
  },
  {
   "cell_type": "code",
   "execution_count": 42,
   "metadata": {},
   "outputs": [
    {
     "name": "stdout",
     "output_type": "stream",
     "text": [
      "Epoch 1/15\n",
      "22/22 [==============================] - 10s 420ms/step - loss: 3.7206 - mean_absolute_error: 2.3388 - val_loss: 1.4939 - val_mean_absolute_error: 0.9553\n",
      "Epoch 2/15\n",
      "22/22 [==============================] - 8s 373ms/step - loss: 1.9105 - mean_absolute_error: 1.1876 - val_loss: 1.6249 - val_mean_absolute_error: 1.0271\n",
      "Epoch 3/15\n",
      "22/22 [==============================] - 8s 375ms/step - loss: 1.3488 - mean_absolute_error: 0.8529 - val_loss: 1.2856 - val_mean_absolute_error: 0.7702\n",
      "Epoch 4/15\n",
      "22/22 [==============================] - 8s 347ms/step - loss: 0.9976 - mean_absolute_error: 0.6322 - val_loss: 0.9996 - val_mean_absolute_error: 0.6115\n",
      "Epoch 5/15\n",
      "22/22 [==============================] - 8s 342ms/step - loss: 0.8550 - mean_absolute_error: 0.5525 - val_loss: 1.3387 - val_mean_absolute_error: 0.8222\n",
      "Epoch 6/15\n",
      "22/22 [==============================] - 7s 333ms/step - loss: 0.9026 - mean_absolute_error: 0.5671 - val_loss: 0.8859 - val_mean_absolute_error: 0.5390\n",
      "Epoch 7/15\n",
      "22/22 [==============================] - 7s 331ms/step - loss: 0.8357 - mean_absolute_error: 0.5278 - val_loss: 0.8108 - val_mean_absolute_error: 0.5068\n",
      "Epoch 8/15\n",
      "22/22 [==============================] - 7s 332ms/step - loss: 0.8860 - mean_absolute_error: 0.5605 - val_loss: 0.8318 - val_mean_absolute_error: 0.5148\n",
      "Epoch 9/15\n",
      "22/22 [==============================] - 7s 338ms/step - loss: 0.7468 - mean_absolute_error: 0.4713 - val_loss: 0.6596 - val_mean_absolute_error: 0.4103\n",
      "Epoch 10/15\n",
      "22/22 [==============================] - 7s 333ms/step - loss: 0.7392 - mean_absolute_error: 0.4688 - val_loss: 0.8218 - val_mean_absolute_error: 0.5108\n",
      "Epoch 11/15\n",
      "22/22 [==============================] - 7s 331ms/step - loss: 0.8925 - mean_absolute_error: 0.5582 - val_loss: 0.9433 - val_mean_absolute_error: 0.5773\n",
      "Epoch 12/15\n",
      "22/22 [==============================] - 7s 331ms/step - loss: 0.8440 - mean_absolute_error: 0.5346 - val_loss: 0.6187 - val_mean_absolute_error: 0.3879\n",
      "Epoch 13/15\n",
      "22/22 [==============================] - 7s 332ms/step - loss: 0.8242 - mean_absolute_error: 0.5148 - val_loss: 0.7301 - val_mean_absolute_error: 0.4579\n",
      "Epoch 14/15\n",
      "22/22 [==============================] - 7s 335ms/step - loss: 0.6992 - mean_absolute_error: 0.4444 - val_loss: 0.9945 - val_mean_absolute_error: 0.6021\n",
      "Epoch 15/15\n",
      "22/22 [==============================] - 7s 333ms/step - loss: 0.8914 - mean_absolute_error: 0.5513 - val_loss: 0.5791 - val_mean_absolute_error: 0.3533\n"
     ]
    }
   ],
   "source": [
    "history = model_cnn.fit(data.TR_features, \n",
    "    data.TR_targets, \n",
    "    epochs=15, \n",
    "    validation_data=(data.TS_features, data.TS_targets)\n",
    "    )\n"
   ]
  },
  {
   "cell_type": "code",
   "execution_count": 9,
   "metadata": {},
   "outputs": [
    {
     "name": "stdout",
     "output_type": "stream",
     "text": [
      "8/8 - 1s - loss: 0.7081 - mean_absolute_error: 0.3587 - 558ms/epoch - 70ms/step\n"
     ]
    },
    {
     "data": {
      "image/png": "[encoded data removed]",
      "text/plain": [
       "<Figure size 432x288 with 1 Axes>"
      ]
     },
     "metadata": {
      "needs_background": "light"
     },
     "output_type": "display_data"
    }
   ],
   "source": [
    "plt.plot(history.history['mean_absolute_error'], label='mean_absolute_error')\n",
    "plt.plot(history.history['val_mean_absolute_error'], label = 'val_mean_absolute_error')\n",
    "plt.xlabel('Epoch')\n",
    "plt.ylabel('Mean Absolute Error')\n",
    "#plt.ylim([0.5, 1])\n",
    "plt.legend(loc='upper right')\n",
    "\n",
    "test_loss, test_acc = model_cnn.evaluate(data.TS_features,  data.TS_targets, verbose=2)\n"
   ]
  },
  {
   "cell_type": "code",
   "execution_count": null,
   "metadata": {},
   "outputs": [
    {
     "name": "stdout",
     "output_type": "stream",
     "text": [
      "8/8 - 1s - loss: 0.9760 - mean_absolute_error: 0.4660 - 857ms/epoch - 107ms/step\n"
     ]
    },
    {
     "data": {
      "image/png": "[encoded data removed]",
      "text/plain": [
       "<Figure size 432x288 with 1 Axes>"
      ]
     },
     "metadata": {
      "needs_background": "light"
     },
     "output_type": "display_data"
    }
   ],
   "source": [
    "plt.plot(history.history['mean_absolute_error'], label='mean_absolute_error')\n",
    "plt.plot(history.history['val_mean_absolute_error'], label = 'val_mean_absolute_error')\n",
    "plt.xlabel('Epoch')\n",
    "plt.ylabel('Mean Absolute Error')\n",
    "#plt.ylim([0.5, 1])\n",
    "plt.legend(loc='upper right')\n",
    "\n",
    "test_loss, test_acc = model_cnn.evaluate(data.TS_features,  data.TS_targets, verbose=2)\n"
   ]
  },
  {
   "cell_type": "markdown",
   "metadata": {},
   "source": [
    "#save/load model weights"
   ]
  },
  {
   "cell_type": "code",
   "execution_count": null,
   "metadata": {},
   "outputs": [],
   "source": [
    "checkpoint_path=\"models/cp-{epoch}.ckpt\"\n",
    "\n",
    "cp_callback = tf.keras.callbacks.ModelCheckpoint(\n",
    "    filepath=checkpoint_path, \n",
    "    verbose=1, \n",
    "    save_weights_only=True,\n",
    "    save_freq=5*batch_size)\n"
   ]
  },
  {
   "cell_type": "code",
   "execution_count": 10,
   "metadata": {},
   "outputs": [
    {
     "name": "stderr",
     "output_type": "stream",
     "text": [
      "2022-03-16 17:27:21.360906: W tensorflow/python/util/util.cc:368] Sets are not currently considered sequences, but this may change in the future, so consider avoiding using them.\n"
     ]
    },
    {
     "name": "stdout",
     "output_type": "stream",
     "text": [
      "INFO:tensorflow:Assets written to: models/cp-epoch15-23M.ckpt/assets\n"
     ]
    }
   ],
   "source": [
    "#save Model weights\n",
    "model_cnn.save(\"models/cp-epoch15-23M.ckpt\")"
   ]
  },
  {
   "cell_type": "code",
   "execution_count": null,
   "metadata": {},
   "outputs": [],
   "source": [
    "#load Model weights\n",
    "model_cnn.load_weights(\"models/cp-epoch15-23M.ckpt\")"
   ]
  },
  {
   "cell_type": "markdown",
   "metadata": {},
   "source": [
    "#analysis test data"
   ]
  },
  {
   "cell_type": "code",
   "execution_count": 43,
   "metadata": {},
   "outputs": [],
   "source": [
    "result = model_cnn.predict(data.TS_features)"
   ]
  },
  {
   "cell_type": "code",
   "execution_count": 44,
   "metadata": {},
   "outputs": [],
   "source": [
    "pos_test = result[:,0:2]\n",
    "rot_test = result[:,2]"
   ]
  },
  {
   "cell_type": "code",
   "execution_count": null,
   "metadata": {},
   "outputs": [],
   "source": [
    "#reformat data\n",
    "\n",
    "data.read()\n",
    "data.divide_data(0.25)"
   ]
  },
  {
   "cell_type": "code",
   "execution_count": 47,
   "metadata": {},
   "outputs": [],
   "source": [
    "pos_real = np.array([data.TS_targets[\"pos_x\"].to_list(),data.TS_targets[\"pos_y\"].to_list()]).T\n",
    "rot_real = (data.TS_targets[\"pos_yaw\"]).to_numpy()"
   ]
  },
  {
   "cell_type": "code",
   "execution_count": 48,
   "metadata": {},
   "outputs": [],
   "source": [
    "pos_mse, rot_mse = 0,0\n",
    "\n",
    "for i in range(len(pos_real)):\n",
    "    pos_mse += (np.sqrt(((pos_real[i,0]-pos_test[i,0])**2)+((pos_real[i,1]-pos_test[i,1])**2)))/len(pos_test)\n",
    "\n",
    "for i in range(len(rot_real)):\n",
    "    rot_mse += np.sqrt((rot_real[i]-rot_test[0])**2)/len(rot_real)\n"
   ]
  }
 ],
 "metadata": {
  "interpreter": {
   "hash": "36cf16204b8548560b1c020c4e8fb5b57f0e4c58016f52f2d4be01e192833930"
  },
  "kernelspec": {
   "display_name": "Python 3.9.10 64-bit",
   "name": "python3"
  },
  "language_info": {
   "codemirror_mode": {
    "name": "ipython",
    "version": 3
   },
   "file_extension": ".py",
   "mimetype": "text/x-python",
   "name": "python",
   "nbconvert_exporter": "python",
   "pygments_lexer": "ipython3",
   "version": "3.9.10"
  },
  "orig_nbformat": 4
 },
 "nbformat": 4,
 "nbformat_minor": 2
}
