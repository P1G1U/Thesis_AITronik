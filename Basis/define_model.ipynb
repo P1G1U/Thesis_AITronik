{
 "cells": [
  {
   "cell_type": "markdown",
   "metadata": {},
   "source": [
    "#define model"
   ]
  },
  {
   "cell_type": "code",
   "execution_count": 1,
   "metadata": {},
   "outputs": [
    {
     "name": "stderr",
     "output_type": "stream",
     "text": [
      "2022-04-26 14:17:29.609539: I tensorflow/stream_executor/cuda/cuda_gpu_executor.cc:936] successful NUMA node read from SysFS had negative value (-1), but there must be at least one NUMA node, so returning NUMA node zero\n",
      "2022-04-26 14:17:29.619089: I tensorflow/stream_executor/cuda/cuda_gpu_executor.cc:936] successful NUMA node read from SysFS had negative value (-1), but there must be at least one NUMA node, so returning NUMA node zero\n",
      "2022-04-26 14:17:29.619328: I tensorflow/stream_executor/cuda/cuda_gpu_executor.cc:936] successful NUMA node read from SysFS had negative value (-1), but there must be at least one NUMA node, so returning NUMA node zero\n",
      "2022-04-26 14:17:29.620770: I tensorflow/stream_executor/cuda/cuda_gpu_executor.cc:936] successful NUMA node read from SysFS had negative value (-1), but there must be at least one NUMA node, so returning NUMA node zero\n",
      "2022-04-26 14:17:29.621019: I tensorflow/stream_executor/cuda/cuda_gpu_executor.cc:936] successful NUMA node read from SysFS had negative value (-1), but there must be at least one NUMA node, so returning NUMA node zero\n",
      "2022-04-26 14:17:29.621215: I tensorflow/stream_executor/cuda/cuda_gpu_executor.cc:936] successful NUMA node read from SysFS had negative value (-1), but there must be at least one NUMA node, so returning NUMA node zero\n",
      "2022-04-26 14:17:30.355996: I tensorflow/stream_executor/cuda/cuda_gpu_executor.cc:936] successful NUMA node read from SysFS had negative value (-1), but there must be at least one NUMA node, so returning NUMA node zero\n",
      "2022-04-26 14:17:30.356323: I tensorflow/stream_executor/cuda/cuda_gpu_executor.cc:936] successful NUMA node read from SysFS had negative value (-1), but there must be at least one NUMA node, so returning NUMA node zero\n",
      "2022-04-26 14:17:30.356536: I tensorflow/stream_executor/cuda/cuda_gpu_executor.cc:936] successful NUMA node read from SysFS had negative value (-1), but there must be at least one NUMA node, so returning NUMA node zero\n",
      "2022-04-26 14:17:30.356686: I tensorflow/core/common_runtime/gpu/gpu_process_state.cc:214] Using CUDA malloc Async allocator for GPU: 0\n",
      "2022-04-26 14:17:30.356816: I tensorflow/core/common_runtime/gpu/gpu_device.cc:1525] Created device /job:localhost/replica:0/task:0/device:GPU:0 with 1024 MB memory:  -> device: 0, name: NVIDIA GeForce GTX 1050, pci bus id: 0000:02:00.0, compute capability: 6.1\n"
     ]
    }
   ],
   "source": [
    "import tensorflow as tf\n",
    "from tensorflow.keras import layers, models, backend, losses\n",
    "from data_mgmt import DAO\n",
    "import matplotlib.pyplot as plt\n",
    "import numpy as np\n",
    "import os\n",
    "\n",
    "os.environ['TF_GPU_ALLOCATOR']='cuda_malloc_async'\n",
    "os.environ[\"TF_CPP_VMODULE\"]=\"gpu_process_state=10,gpu_cudamallocasync_allocator=10\"\n",
    "\n",
    "gpus = tf.config.experimental.list_physical_devices('GPU')\n",
    "if gpus:\n",
    "    try:\n",
    "        # Currently, memory growth needs to be the same across GPUs\n",
    "        for gpu in gpus:\n",
    "            tf.config.set_logical_device_configuration(\n",
    "                gpu,\n",
    "                [tf.config.LogicalDeviceConfiguration(memory_limit=1024)])\n",
    "\n",
    "        logical_gpus = tf.config.experimental.list_logical_devices('GPU')\n",
    "\n",
    "    except RuntimeError as e:\n",
    "        # Memory growth must be set before GPUs have been initialized\n",
    "        print(e)"
   ]
  },
  {
   "cell_type": "code",
   "execution_count": 2,
   "metadata": {},
   "outputs": [],
   "source": [
    "def model_define(data_input, drop_rate):\n",
    "\n",
    "    inputs = layers.Input(shape=(data_input.shape[1],data_input.shape[2],data_input.shape[3]))\n",
    "\n",
    "    conv_1 = layers.Conv2D(\n",
    "        32, (11,1), padding=\"same\",\n",
    "        name=\"conv_1\" )(inputs)\n",
    "    conv_2 = layers.Conv2D(\n",
    "        64, kernel_size=(5,1), padding=\"same\",\n",
    "        name=\"conv_2\" )(conv_1)\n",
    "    pool_1 = layers.MaxPooling2D(\n",
    "        (2,1), strides=2, padding=\"same\",\n",
    "        name=\"pool_1\" )(conv_2)\n",
    "    conv_3 = layers.Conv2D(\n",
    "        128, kernel_size=(5,1), padding=\"same\",\n",
    "        name=\"conv_3\" )(pool_1)\n",
    "    pool_2 = layers.MaxPooling2D(\n",
    "        (2,1), strides=2, padding=\"same\",\n",
    "        name=\"pool_2\" )(conv_3)\n",
    "    conv_4 = layers.Conv2D(\n",
    "        128, kernel_size=(5,1), padding=\"same\",\n",
    "        name=\"conv_4\" )(pool_2)\n",
    "    pool_3 = layers.MaxPooling2D(\n",
    "        (2,1), strides=2, padding=\"same\",\n",
    "        name=\"pool_3\" )(conv_4)\n",
    "\n",
    "    flat = layers.Flatten()(pool_2)\n",
    "    flat_dropout = layers.Dropout(drop_rate)(flat)\n",
    "    \n",
    "    #position\n",
    "    pos_dense_1 = layers.Dense(512, activation=\"relu\", name=\"hidden_pos_1\")(flat_dropout)\n",
    "    pos_dropout = layers.Dropout(drop_rate)(pos_dense_1)\n",
    "    pos_dense_2 = layers.Dense(128,name=\"hidden_pos_2\")(pos_dropout)\n",
    "    pos_result = layers.Dense(2,name=\"pos_output\")(pos_dense_2)\n",
    "\n",
    "    #rotation\n",
    "    rot_dense_1 = layers.Dense(16, activation=\"relu\", name=\"hidden_rot_1\")(flat_dropout)\n",
    "    rot_dropout = layers.Dropout(drop_rate)(rot_dense_1)\n",
    "    rot_dense_2 = layers.Dense(8,name=\"hidden_rot\")(rot_dropout)\n",
    "    rot_result = layers.Dense(1,name=\"rot_output\")(rot_dense_2)\n",
    "\n",
    "    return models.Model(inputs, pos_result)#[pos_result,rot_result])\n",
    "\n",
    "beta = 0.2\n",
    "\n",
    "def loss_fn(y_true, y_pred):\n",
    "\n",
    "    pos_loss = losses.MeanSquaredError()(y_true[0], y_pred[0])\n",
    "    rot_loss = losses.MeanAbsoluteError()(y_true[1], y_pred[1])\n",
    "\n",
    "    return layers.Add()([pos_loss, rot_loss])\n",
    "\n",
    "#def pos_loss(y_actual, y_pred):\n",
    "    #loss_value = (1-beta)*(backend.sqrt(backend.pow((y_actual[:,0,0]-y_pred[:,0,0]),2)+backend.pow((y_actual[:,0,1]-y_pred[:,0,1]),2)))+(beta*(backend.sqrt(backend.pow((y_actual[:,1]-y_pred[:,1]),2))))\n",
    "    #loss_value =backend.sqrt(backend.pow((y_actual[0]-y_pred[0]),2)+backend.pow((y_actual[1]-y_pred[1]),2))\n",
    "    #return loss_value"
   ]
  },
  {
   "cell_type": "code",
   "execution_count": 3,
   "metadata": {},
   "outputs": [],
   "source": [
    "filename=\"laser_log/laser_log2303_unidir.csv\"\n",
    "\n",
    "data = DAO(filename)\n",
    "\n",
    "data.read()\n",
    "data.divide_data()"
   ]
  },
  {
   "cell_type": "markdown",
   "metadata": {},
   "source": [
    "#format the data"
   ]
  },
  {
   "cell_type": "code",
   "execution_count": 4,
   "metadata": {},
   "outputs": [],
   "source": [
    "data.TR_features=tf.reshape(data.TR_features,[-1,720,1,1])\n",
    "data.TS_features=tf.reshape(data.TS_features,[-1,720,1,1])\n",
    "data.TR_targets=tf.reshape(data.TR_targets,[-1,3])\n",
    "data.TS_targets=tf.reshape(data.TS_targets,[-1,3])"
   ]
  },
  {
   "cell_type": "code",
   "execution_count": 8,
   "metadata": {},
   "outputs": [],
   "source": [
    "data.TR_targets_pos = tf.gather(data.TR_targets,[0,1],axis=1)\n",
    "data.TS_targets_pos = tf.gather(data.TS_targets,[0,1],axis=1)\n",
    "data.TR_targets_rot = tf.gather(data.TR_targets,[2],axis=1)\n",
    "data.TS_targets_rot = tf.gather(data.TS_targets,[2],axis=1)"
   ]
  },
  {
   "cell_type": "markdown",
   "metadata": {},
   "source": [
    "#Training model"
   ]
  },
  {
   "cell_type": "code",
   "execution_count": 9,
   "metadata": {},
   "outputs": [],
   "source": [
    "model_cnn = model_define(data.TR_features,0.2)"
   ]
  },
  {
   "cell_type": "code",
   "execution_count": 10,
   "metadata": {},
   "outputs": [],
   "source": [
    "model_cnn.compile(optimizer = \"adam\",\n",
    "    loss=loss_fn\n",
    "    )"
   ]
  },
  {
   "cell_type": "code",
   "execution_count": 25,
   "metadata": {},
   "outputs": [
    {
     "name": "stdout",
     "output_type": "stream",
     "text": [
      "Model: \"model_1\"\n",
      "__________________________________________________________________________________________________\n",
      " Layer (type)                   Output Shape         Param #     Connected to                     \n",
      "==================================================================================================\n",
      " input_14 (InputLayer)          [(None, 720, 1, 1)]  0           []                               \n",
      "                                                                                                  \n",
      " conv_1 (Conv2D)                (None, 720, 1, 16)   192         ['input_14[0][0]']               \n",
      "                                                                                                  \n",
      " conv_2 (Conv2D)                (None, 720, 1, 32)   2592        ['conv_1[0][0]']                 \n",
      "                                                                                                  \n",
      " pool_1 (MaxPooling2D)          (None, 360, 1, 32)   0           ['conv_2[0][0]']                 \n",
      "                                                                                                  \n",
      " conv_3 (Conv2D)                (None, 360, 1, 128)  20608       ['pool_1[0][0]']                 \n",
      "                                                                                                  \n",
      " pool_2 (MaxPooling2D)          (None, 180, 1, 128)  0           ['conv_3[0][0]']                 \n",
      "                                                                                                  \n",
      " flatten_1 (Flatten)            (None, 23040)        0           ['pool_2[0][0]']                 \n",
      "                                                                                                  \n",
      " dropout_3 (Dropout)            (None, 23040)        0           ['flatten_1[0][0]']              \n",
      "                                                                                                  \n",
      " hidden_pos_1 (Dense)           (None, 512)          11796992    ['dropout_3[0][0]']              \n",
      "                                                                                                  \n",
      " hidden_rot_1 (Dense)           (None, 512)          11796992    ['dropout_3[0][0]']              \n",
      "                                                                                                  \n",
      " dropout_4 (Dropout)            (None, 512)          0           ['hidden_pos_1[0][0]']           \n",
      "                                                                                                  \n",
      " dropout_5 (Dropout)            (None, 512)          0           ['hidden_rot_1[0][0]']           \n",
      "                                                                                                  \n",
      " hidden_pos_2 (Dense)           (None, 128)          65664       ['dropout_4[0][0]']              \n",
      "                                                                                                  \n",
      " hidden_rot (Dense)             (None, 128)          65664       ['dropout_5[0][0]']              \n",
      "                                                                                                  \n",
      " pos_output (Dense)             (None, 2)            258         ['hidden_pos_2[0][0]']           \n",
      "                                                                                                  \n",
      " rot_output (Dense)             (None, 1)            129         ['hidden_rot[0][0]']             \n",
      "                                                                                                  \n",
      "==================================================================================================\n",
      "Total params: 23,749,091\n",
      "Trainable params: 23,749,091\n",
      "Non-trainable params: 0\n",
      "__________________________________________________________________________________________________\n"
     ]
    }
   ],
   "source": [
    "model_cnn.summary()"
   ]
  },
  {
   "cell_type": "code",
   "execution_count": 11,
   "metadata": {},
   "outputs": [
    {
     "name": "stdout",
     "output_type": "stream",
     "text": [
      "Epoch 1/100\n"
     ]
    },
    {
     "name": "stderr",
     "output_type": "stream",
     "text": [
      "2022-04-26 14:18:21.006412: I tensorflow/stream_executor/cuda/cuda_dnn.cc:368] Loaded cuDNN version 8100\n"
     ]
    },
    {
     "name": "stdout",
     "output_type": "stream",
     "text": [
      "60/60 [==============================] - 4s 22ms/step - loss: 914.3947 - val_loss: 48.8870\n",
      "Epoch 2/100\n",
      "60/60 [==============================] - 1s 17ms/step - loss: 33.3737 - val_loss: 17.3293\n",
      "Epoch 3/100\n",
      "60/60 [==============================] - 1s 17ms/step - loss: 17.3363 - val_loss: 8.0421\n",
      "Epoch 4/100\n",
      "60/60 [==============================] - 1s 17ms/step - loss: 10.2705 - val_loss: 3.9931\n",
      "Epoch 5/100\n",
      "60/60 [==============================] - 1s 17ms/step - loss: 6.6334 - val_loss: 4.0769\n",
      "Epoch 6/100\n",
      "60/60 [==============================] - 1s 18ms/step - loss: 6.0951 - val_loss: 4.3176\n",
      "Epoch 7/100\n",
      "60/60 [==============================] - 1s 16ms/step - loss: 6.1232 - val_loss: 5.0390\n",
      "Epoch 8/100\n",
      "60/60 [==============================] - 1s 17ms/step - loss: 4.8456 - val_loss: 9.0958\n",
      "Epoch 9/100\n",
      "60/60 [==============================] - 1s 17ms/step - loss: 7.8782 - val_loss: 1.9660\n",
      "Epoch 10/100\n",
      "60/60 [==============================] - 1s 17ms/step - loss: 5.2438 - val_loss: 1.5604\n",
      "Epoch 11/100\n",
      "60/60 [==============================] - 1s 18ms/step - loss: 5.9071 - val_loss: 3.3017\n",
      "Epoch 12/100\n",
      "60/60 [==============================] - 1s 17ms/step - loss: 5.2336 - val_loss: 3.1255\n",
      "Epoch 13/100\n",
      "60/60 [==============================] - 1s 17ms/step - loss: 5.7269 - val_loss: 3.0794\n",
      "Epoch 14/100\n",
      "60/60 [==============================] - 1s 17ms/step - loss: 4.6921 - val_loss: 1.9307\n",
      "Epoch 15/100\n",
      "60/60 [==============================] - 1s 17ms/step - loss: 5.9624 - val_loss: 3.9228\n",
      "Epoch 16/100\n",
      "60/60 [==============================] - 1s 17ms/step - loss: 5.5823 - val_loss: 2.5513\n",
      "Epoch 17/100\n",
      "60/60 [==============================] - 1s 17ms/step - loss: 4.6270 - val_loss: 6.0959\n",
      "Epoch 18/100\n",
      "60/60 [==============================] - 1s 17ms/step - loss: 7.3083 - val_loss: 3.2968\n",
      "Epoch 19/100\n",
      "60/60 [==============================] - 1s 17ms/step - loss: 6.1793 - val_loss: 2.1644\n",
      "Epoch 20/100\n",
      "60/60 [==============================] - 1s 17ms/step - loss: 5.6056 - val_loss: 2.7890\n",
      "Epoch 21/100\n",
      "60/60 [==============================] - 1s 17ms/step - loss: 4.7353 - val_loss: 2.4066\n",
      "Epoch 22/100\n",
      "60/60 [==============================] - 1s 17ms/step - loss: 6.4154 - val_loss: 3.1306\n",
      "Epoch 23/100\n",
      "60/60 [==============================] - 1s 18ms/step - loss: 8.5700 - val_loss: 5.0409\n",
      "Epoch 24/100\n",
      "60/60 [==============================] - 1s 17ms/step - loss: 8.9166 - val_loss: 6.2167\n",
      "Epoch 25/100\n",
      "60/60 [==============================] - 1s 17ms/step - loss: 6.4141 - val_loss: 5.3128\n",
      "Epoch 26/100\n",
      "60/60 [==============================] - 1s 18ms/step - loss: 7.2535 - val_loss: 4.8642\n",
      "Epoch 27/100\n",
      "60/60 [==============================] - 1s 17ms/step - loss: 5.2930 - val_loss: 5.0603\n",
      "Epoch 28/100\n",
      "60/60 [==============================] - 1s 17ms/step - loss: 5.1767 - val_loss: 1.9802\n",
      "Epoch 29/100\n",
      "60/60 [==============================] - 1s 17ms/step - loss: 4.6151 - val_loss: 1.8017\n",
      "Epoch 30/100\n",
      "60/60 [==============================] - 1s 17ms/step - loss: 3.9152 - val_loss: 2.5067\n",
      "Epoch 31/100\n",
      "60/60 [==============================] - 1s 17ms/step - loss: 5.5393 - val_loss: 5.1926\n",
      "Epoch 32/100\n",
      "60/60 [==============================] - 1s 18ms/step - loss: 6.9429 - val_loss: 2.3948\n",
      "Epoch 33/100\n",
      "60/60 [==============================] - 1s 17ms/step - loss: 4.9917 - val_loss: 3.9886\n",
      "Epoch 34/100\n",
      "60/60 [==============================] - 1s 17ms/step - loss: 4.6706 - val_loss: 2.8714\n",
      "Epoch 35/100\n",
      "60/60 [==============================] - 1s 17ms/step - loss: 5.5064 - val_loss: 12.8428\n",
      "Epoch 36/100\n",
      "60/60 [==============================] - 1s 17ms/step - loss: 6.4696 - val_loss: 5.4708\n",
      "Epoch 37/100\n",
      "60/60 [==============================] - 1s 18ms/step - loss: 10.5864 - val_loss: 5.8635\n",
      "Epoch 38/100\n",
      "60/60 [==============================] - 1s 18ms/step - loss: 7.3591 - val_loss: 4.6385\n",
      "Epoch 39/100\n",
      "60/60 [==============================] - 1s 16ms/step - loss: 3.9635 - val_loss: 2.2813\n",
      "Epoch 40/100\n",
      "60/60 [==============================] - 1s 18ms/step - loss: 7.1645 - val_loss: 1.8303\n",
      "Epoch 41/100\n",
      "60/60 [==============================] - 1s 17ms/step - loss: 4.6226 - val_loss: 3.6393\n",
      "Epoch 42/100\n",
      "60/60 [==============================] - 1s 17ms/step - loss: 5.7910 - val_loss: 11.9531\n",
      "Epoch 43/100\n",
      "60/60 [==============================] - 1s 17ms/step - loss: 8.9103 - val_loss: 3.4204\n",
      "Epoch 44/100\n",
      "60/60 [==============================] - 1s 17ms/step - loss: 4.8843 - val_loss: 1.7487\n",
      "Epoch 45/100\n",
      "60/60 [==============================] - 1s 17ms/step - loss: 5.3010 - val_loss: 2.8736\n",
      "Epoch 46/100\n",
      "60/60 [==============================] - 1s 17ms/step - loss: 5.1735 - val_loss: 2.5298\n",
      "Epoch 47/100\n",
      "60/60 [==============================] - 1s 17ms/step - loss: 3.4009 - val_loss: 2.0710\n",
      "Epoch 48/100\n",
      "60/60 [==============================] - 1s 18ms/step - loss: 5.8776 - val_loss: 6.6281\n",
      "Epoch 49/100\n",
      "60/60 [==============================] - 1s 18ms/step - loss: 6.0062 - val_loss: 3.1085\n",
      "Epoch 50/100\n",
      "60/60 [==============================] - 1s 17ms/step - loss: 7.3392 - val_loss: 11.1799\n",
      "Epoch 51/100\n",
      "60/60 [==============================] - 1s 17ms/step - loss: 6.7765 - val_loss: 3.8181\n",
      "Epoch 52/100\n",
      "60/60 [==============================] - 1s 17ms/step - loss: 4.5124 - val_loss: 2.3697\n",
      "Epoch 53/100\n",
      "60/60 [==============================] - 1s 18ms/step - loss: 4.1906 - val_loss: 3.4669\n",
      "Epoch 54/100\n",
      "60/60 [==============================] - 1s 17ms/step - loss: 7.0965 - val_loss: 3.0621\n",
      "Epoch 55/100\n",
      "60/60 [==============================] - 1s 17ms/step - loss: 6.1626 - val_loss: 3.4639\n",
      "Epoch 56/100\n",
      "60/60 [==============================] - 1s 18ms/step - loss: 5.1053 - val_loss: 3.2334\n",
      "Epoch 57/100\n",
      "60/60 [==============================] - 1s 17ms/step - loss: 6.0977 - val_loss: 3.0469\n",
      "Epoch 58/100\n",
      "60/60 [==============================] - 1s 18ms/step - loss: 4.7734 - val_loss: 2.6557\n",
      "Epoch 59/100\n",
      "60/60 [==============================] - 1s 17ms/step - loss: 3.9789 - val_loss: 2.7697\n",
      "Epoch 60/100\n",
      "60/60 [==============================] - 1s 17ms/step - loss: 4.2941 - val_loss: 2.7965\n",
      "Epoch 61/100\n",
      "60/60 [==============================] - 1s 17ms/step - loss: 4.2033 - val_loss: 2.9705\n",
      "Epoch 62/100\n",
      "60/60 [==============================] - 1s 17ms/step - loss: 4.3350 - val_loss: 2.2476\n",
      "Epoch 63/100\n",
      "60/60 [==============================] - 1s 18ms/step - loss: 3.5324 - val_loss: 2.1743\n",
      "Epoch 64/100\n",
      "60/60 [==============================] - 1s 17ms/step - loss: 3.8948 - val_loss: 2.8676\n",
      "Epoch 65/100\n",
      "60/60 [==============================] - 1s 17ms/step - loss: 4.8256 - val_loss: 2.1584\n",
      "Epoch 66/100\n",
      "60/60 [==============================] - 1s 17ms/step - loss: 4.7467 - val_loss: 4.3569\n",
      "Epoch 67/100\n",
      "60/60 [==============================] - 1s 17ms/step - loss: 6.7001 - val_loss: 16.3762\n",
      "Epoch 68/100\n",
      "60/60 [==============================] - 1s 17ms/step - loss: 8.4494 - val_loss: 3.7475\n",
      "Epoch 69/100\n",
      "60/60 [==============================] - 1s 17ms/step - loss: 5.4243 - val_loss: 1.4017\n",
      "Epoch 70/100\n",
      "60/60 [==============================] - 1s 17ms/step - loss: 6.2857 - val_loss: 4.2458\n",
      "Epoch 71/100\n",
      "60/60 [==============================] - 1s 17ms/step - loss: 5.6837 - val_loss: 1.6531\n",
      "Epoch 72/100\n",
      "60/60 [==============================] - 1s 17ms/step - loss: 3.7550 - val_loss: 2.4556\n",
      "Epoch 73/100\n",
      "60/60 [==============================] - 1s 17ms/step - loss: 3.8793 - val_loss: 2.2566\n",
      "Epoch 74/100\n",
      "60/60 [==============================] - 1s 17ms/step - loss: 2.9453 - val_loss: 1.6786\n",
      "Epoch 75/100\n",
      "60/60 [==============================] - 1s 17ms/step - loss: 4.6657 - val_loss: 3.8539\n",
      "Epoch 76/100\n",
      "60/60 [==============================] - 1s 18ms/step - loss: 3.9932 - val_loss: 2.3025\n",
      "Epoch 77/100\n",
      "60/60 [==============================] - 1s 17ms/step - loss: 4.9515 - val_loss: 1.6818\n",
      "Epoch 78/100\n",
      "60/60 [==============================] - 1s 17ms/step - loss: 3.8163 - val_loss: 6.1874\n",
      "Epoch 79/100\n",
      "60/60 [==============================] - 1s 17ms/step - loss: 3.6012 - val_loss: 1.3517\n",
      "Epoch 80/100\n",
      "60/60 [==============================] - 1s 18ms/step - loss: 4.3906 - val_loss: 2.5012\n",
      "Epoch 81/100\n",
      "60/60 [==============================] - 1s 18ms/step - loss: 3.3811 - val_loss: 2.3763\n",
      "Epoch 82/100\n",
      "60/60 [==============================] - 1s 17ms/step - loss: 4.1064 - val_loss: 2.8385\n",
      "Epoch 83/100\n",
      "60/60 [==============================] - 1s 17ms/step - loss: 3.9671 - val_loss: 1.9896\n",
      "Epoch 84/100\n",
      "60/60 [==============================] - 1s 18ms/step - loss: 3.2201 - val_loss: 4.0014\n",
      "Epoch 85/100\n",
      "60/60 [==============================] - 1s 17ms/step - loss: 5.1651 - val_loss: 2.4726\n",
      "Epoch 86/100\n",
      "60/60 [==============================] - 1s 17ms/step - loss: 4.0987 - val_loss: 3.8601\n",
      "Epoch 87/100\n",
      "60/60 [==============================] - 1s 19ms/step - loss: 4.0166 - val_loss: 4.8997\n",
      "Epoch 88/100\n",
      "60/60 [==============================] - 1s 18ms/step - loss: 3.8292 - val_loss: 1.4455\n",
      "Epoch 89/100\n",
      "60/60 [==============================] - 1s 17ms/step - loss: 3.8122 - val_loss: 1.5204\n",
      "Epoch 90/100\n",
      "60/60 [==============================] - 1s 17ms/step - loss: 4.3313 - val_loss: 2.7598\n",
      "Epoch 91/100\n",
      "60/60 [==============================] - 1s 18ms/step - loss: 3.7662 - val_loss: 2.3559\n",
      "Epoch 92/100\n",
      "60/60 [==============================] - 1s 17ms/step - loss: 6.0309 - val_loss: 6.8038\n",
      "Epoch 93/100\n",
      "60/60 [==============================] - 1s 17ms/step - loss: 3.7509 - val_loss: 2.1065\n",
      "Epoch 94/100\n",
      "60/60 [==============================] - 1s 17ms/step - loss: 4.4959 - val_loss: 5.1417\n",
      "Epoch 95/100\n",
      "60/60 [==============================] - 1s 18ms/step - loss: 4.5566 - val_loss: 2.6958\n",
      "Epoch 96/100\n",
      "60/60 [==============================] - 1s 17ms/step - loss: 4.9662 - val_loss: 3.6811\n",
      "Epoch 97/100\n",
      "60/60 [==============================] - 1s 17ms/step - loss: 4.5698 - val_loss: 2.4143\n",
      "Epoch 98/100\n",
      "60/60 [==============================] - 1s 17ms/step - loss: 4.6387 - val_loss: 1.5175\n",
      "Epoch 99/100\n",
      "60/60 [==============================] - 1s 17ms/step - loss: 4.0246 - val_loss: 2.4884\n",
      "Epoch 100/100\n",
      "60/60 [==============================] - 1s 18ms/step - loss: 4.0677 - val_loss: 1.7277\n"
     ]
    }
   ],
   "source": [
    "\n",
    "history = model_cnn.fit(data.TR_features, \n",
    "    data.TR_targets_pos,#[data.TR_targets_pos,data.TR_targets_rot], \n",
    "    epochs=100, \n",
    "    batch_size=16,\n",
    "    validation_data=(data.TS_features, data.TS_targets_pos)#[data.TS_targets_pos,data.TS_targets_rot])\n",
    "    )\n"
   ]
  },
  {
   "cell_type": "code",
   "execution_count": 17,
   "metadata": {},
   "outputs": [
    {
     "ename": "KeyError",
     "evalue": "'mean_absolute_error'",
     "output_type": "error",
     "traceback": [
      "\u001b[0;31m---------------------------------------------------------------------------\u001b[0m",
      "\u001b[0;31mKeyError\u001b[0m                                  Traceback (most recent call last)",
      "\u001b[1;32m/home/ait_guest/Desktop/LP_thesis/Codice/thesis_AITronik/Basis/define_model.ipynb Cell 13'\u001b[0m in \u001b[0;36m<cell line: 1>\u001b[0;34m()\u001b[0m\n\u001b[0;32m----> <a href='vscode-notebook-cell:/home/ait_guest/Desktop/LP_thesis/Codice/thesis_AITronik/Basis/define_model.ipynb#ch0000012?line=0'>1</a>\u001b[0m plt\u001b[39m.\u001b[39mplot(history\u001b[39m.\u001b[39;49mhistory[\u001b[39m'\u001b[39;49m\u001b[39mmean_absolute_error\u001b[39;49m\u001b[39m'\u001b[39;49m], label\u001b[39m=\u001b[39m\u001b[39m'\u001b[39m\u001b[39mmean_absolute_error\u001b[39m\u001b[39m'\u001b[39m)\n\u001b[1;32m      <a href='vscode-notebook-cell:/home/ait_guest/Desktop/LP_thesis/Codice/thesis_AITronik/Basis/define_model.ipynb#ch0000012?line=1'>2</a>\u001b[0m plt\u001b[39m.\u001b[39mplot(history\u001b[39m.\u001b[39mhistory[\u001b[39m'\u001b[39m\u001b[39mval_mean_absolute_error\u001b[39m\u001b[39m'\u001b[39m], label \u001b[39m=\u001b[39m \u001b[39m'\u001b[39m\u001b[39mval_mean_absolute_error\u001b[39m\u001b[39m'\u001b[39m)\n\u001b[1;32m      <a href='vscode-notebook-cell:/home/ait_guest/Desktop/LP_thesis/Codice/thesis_AITronik/Basis/define_model.ipynb#ch0000012?line=2'>3</a>\u001b[0m plt\u001b[39m.\u001b[39mxlabel(\u001b[39m'\u001b[39m\u001b[39mEpoch\u001b[39m\u001b[39m'\u001b[39m)\n",
      "\u001b[0;31mKeyError\u001b[0m: 'mean_absolute_error'"
     ]
    }
   ],
   "source": [
    "plt.plot(history.history['mean_absolute_error'], label='mean_absolute_error')\n",
    "plt.plot(history.history['val_mean_absolute_error'], label = 'val_mean_absolute_error')\n",
    "plt.xlabel('Epoch')\n",
    "plt.ylabel('Mean Absolute Error')\n",
    "#plt.ylim([0.5, 1])\n",
    "plt.legend(loc='upper right')\n",
    "\n",
    "test_loss, test_acc = model_cnn.evaluate(data.TS_features,  data.TS_targets, verbose=2)\n"
   ]
  },
  {
   "cell_type": "code",
   "execution_count": 12,
   "metadata": {},
   "outputs": [
    {
     "name": "stdout",
     "output_type": "stream",
     "text": [
      "10/10 - 0s - loss: 100.4853 - 369ms/epoch - 37ms/step\n"
     ]
    },
    {
     "data": {
      "image/png": "[encoded data removed]",
      "text/plain": [
       "<Figure size 432x288 with 1 Axes>"
      ]
     },
     "metadata": {
      "needs_background": "light"
     },
     "output_type": "display_data"
    }
   ],
   "source": [
    "plt.plot(history.history['loss'], label='loss')\n",
    "plt.plot(history.history['val_loss'], label = 'val_loss')\n",
    "plt.xlabel('Epoch')\n",
    "plt.ylabel('Loss')\n",
    "#plt.ylim([0.5, 1])\n",
    "plt.yscale(\"log\")\n",
    "plt.legend(loc='upper right')\n",
    "\n",
    "test_loss = model_cnn.evaluate(data.TS_features, [data.TS_targets_pos, data.TS_targets_rot], verbose=2)\n"
   ]
  },
  {
   "cell_type": "markdown",
   "metadata": {},
   "source": [
    "#save/load model weights"
   ]
  },
  {
   "cell_type": "code",
   "execution_count": null,
   "metadata": {},
   "outputs": [],
   "source": [
    "checkpoint_path=\"models/cp-{epoch}.ckpt\"\n",
    "\n",
    "cp_callback = tf.keras.callbacks.ModelCheckpoint(\n",
    "    filepath=checkpoint_path, \n",
    "    verbose=1, \n",
    "    save_weights_only=True,\n",
    "    save_freq=5*batch_size)\n"
   ]
  },
  {
   "cell_type": "code",
   "execution_count": 10,
   "metadata": {},
   "outputs": [
    {
     "name": "stderr",
     "output_type": "stream",
     "text": [
      "2022-03-16 17:27:21.360906: W tensorflow/python/util/util.cc:368] Sets are not currently considered sequences, but this may change in the future, so consider avoiding using them.\n"
     ]
    },
    {
     "name": "stdout",
     "output_type": "stream",
     "text": [
      "INFO:tensorflow:Assets written to: models/cp-epoch15-23M.ckpt/assets\n"
     ]
    }
   ],
   "source": [
    "#save Model weights\n",
    "model_cnn.save(\"models/cp-epoch15-23M.ckpt\")"
   ]
  },
  {
   "cell_type": "code",
   "execution_count": null,
   "metadata": {},
   "outputs": [],
   "source": [
    "#load Model weights\n",
    "model_cnn.load_weights(\"models/cp-epoch15-23M.ckpt\")"
   ]
  },
  {
   "cell_type": "markdown",
   "metadata": {},
   "source": [
    "#analysis test data"
   ]
  },
  {
   "cell_type": "code",
   "execution_count": 43,
   "metadata": {},
   "outputs": [],
   "source": [
    "result = model_cnn.predict(data.TS_features)"
   ]
  },
  {
   "cell_type": "code",
   "execution_count": 44,
   "metadata": {},
   "outputs": [],
   "source": [
    "pos_test = result[:,0:2]\n",
    "rot_test = result[:,2]"
   ]
  },
  {
   "cell_type": "code",
   "execution_count": null,
   "metadata": {},
   "outputs": [],
   "source": [
    "#reformat data\n",
    "\n",
    "data.read()\n",
    "data.divide_data(0.25)"
   ]
  },
  {
   "cell_type": "code",
   "execution_count": 47,
   "metadata": {},
   "outputs": [],
   "source": [
    "pos_real = np.array([data.TS_targets[\"pos_x\"].to_list(),data.TS_targets[\"pos_y\"].to_list()]).T\n",
    "rot_real = (data.TS_targets[\"pos_yaw\"]).to_numpy()"
   ]
  },
  {
   "cell_type": "code",
   "execution_count": 48,
   "metadata": {},
   "outputs": [],
   "source": [
    "pos_mse, rot_mse = 0,0\n",
    "\n",
    "for i in range(len(pos_real)):\n",
    "    pos_mse += (np.sqrt(((pos_real[i,0]-pos_test[i,0])**2)+((pos_real[i,1]-pos_test[i,1])**2)))/len(pos_test)\n",
    "\n",
    "for i in range(len(rot_real)):\n",
    "    rot_mse += np.sqrt((rot_real[i]-rot_test[0])**2)/len(rot_real)\n"
   ]
  }
 ],
 "metadata": {
  "interpreter": {
   "hash": "36cf16204b8548560b1c020c4e8fb5b57f0e4c58016f52f2d4be01e192833930"
  },
  "kernelspec": {
   "display_name": "Python 3.9.10 64-bit",
   "name": "python3"
  },
  "language_info": {
   "codemirror_mode": {
    "name": "ipython",
    "version": 3
   },
   "file_extension": ".py",
   "mimetype": "text/x-python",
   "name": "python",
   "nbconvert_exporter": "python",
   "pygments_lexer": "ipython3",
   "version": "3.9.11"
  },
  "orig_nbformat": 4
 },
 "nbformat": 4,
 "nbformat_minor": 2
}
