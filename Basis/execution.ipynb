{
 "cells": [
  {
   "cell_type": "markdown",
   "metadata": {},
   "source": [
    "This notebook is the playground to create the data_mgmt.py file"
   ]
  },
  {
   "cell_type": "markdown",
   "metadata": {},
   "source": [
    "#define model"
   ]
  },
  {
   "cell_type": "code",
   "execution_count": 1,
   "metadata": {},
   "outputs": [],
   "source": [
    "import tensorflow as tf\n",
    "from tensorflow.keras import layers, models, backend\n",
    "from data_mgmt import DAO\n",
    "import matplotlib.pyplot as plt"
   ]
  },
  {
   "cell_type": "code",
   "execution_count": 6,
   "metadata": {},
   "outputs": [],
   "source": [
    "def model_define(features, drop_rate):\n",
    "\n",
    "    tf.summary.image(\"laser_inst\", features)\n",
    "\n",
    "    model = models.Sequential()\n",
    "\n",
    "    model.add(layers.Conv2D(\n",
    "        32, (11,1), padding=\"same\", input_shape=(720,2,1),\n",
    "        name=\"conv_1\" ))\n",
    "    model.add(layers.Conv2D(\n",
    "        64, kernel_size=(5,1), padding=\"same\",\n",
    "        name=\"conv_2\" ))\n",
    "    model.add(layers.MaxPooling2D(\n",
    "        (2,1), strides=2, padding=\"same\",\n",
    "        name=\"pool_1\" ))\n",
    "    model.add(layers.Conv2D(\n",
    "        256, kernel_size=(5,1), padding=\"same\",\n",
    "        name=\"conv_3\" ))\n",
    "    model.add(layers.MaxPooling2D(\n",
    "        (2,1), strides=4, padding=\"same\",\n",
    "        name=\"pool_2\" ))\n",
    "\n",
    "    model.add(layers.Flatten())\n",
    "\n",
    "    model.add(layers.Dropout(drop_rate))\n",
    "    model.add(layers.Dense(1024, activation=\"relu\", name=\"dense_1\"))\n",
    "\n",
    "    model.add(layers.Dropout(drop_rate))\n",
    "    model.add(layers.Dense(128, activation=\"relu\", name=\"dense_2\"))\n",
    "\n",
    "    model.add(layers.Dense(3, name=\"dense_3\"))\n",
    "\n",
    "    return model\n",
    "\n",
    "def pos_loss(y_actual, y_pred):\n",
    "    loss_value = backend.sqrt(backend.pow((y_actual[:,0]-y_pred[:,0]),2)+backend.pow((y_actual[:,1]-y_pred[:,1]),2))+(0.3*backend.sqrt(backend.pow((y_actual[:,2]-y_pred[:,2]),2)))\n",
    "    return loss_value"
   ]
  },
  {
   "cell_type": "code",
   "execution_count": null,
   "metadata": {},
   "outputs": [],
   "source": [
    "filename=\"laser_log/laser_log2203.csv\"\n",
    "\n",
    "data = DAO(filename)\n",
    "\n",
    "data.read()\n",
    "data.divide_data(0.25)"
   ]
  },
  {
   "cell_type": "code",
   "execution_count": 7,
   "metadata": {},
   "outputs": [],
   "source": [
    "model_cnn = model_define(data.features, 0.2)"
   ]
  },
  {
   "cell_type": "code",
   "execution_count": 8,
   "metadata": {},
   "outputs": [],
   "source": [
    "model_cnn.compile(optimizer = \"adam\",\n",
    "    loss=pos_loss,\n",
    "    metrics=['mean_absolute_error'])"
   ]
  },
  {
   "cell_type": "code",
   "execution_count": null,
   "metadata": {},
   "outputs": [],
   "source": [
    "model_cnn.summary()"
   ]
  },
  {
   "cell_type": "code",
   "execution_count": null,
   "metadata": {},
   "outputs": [],
   "source": [
    "data.TR_features=tf.reshape(data.TR_features,[-1,720,2,1])\n",
    "data.TS_features=tf.reshape(data.TS_features,[-1,720,2,1])\n",
    "data.TR_targets=tf.reshape(data.TR_targets,[-1,3])\n",
    "data.TS_targets=tf.reshape(data.TS_targets,[-1,3])"
   ]
  },
  {
   "cell_type": "code",
   "execution_count": 9,
   "metadata": {},
   "outputs": [
    {
     "name": "stdout",
     "output_type": "stream",
     "text": [
      "Epoch 1/5\n"
     ]
    },
    {
     "name": "stderr",
     "output_type": "stream",
     "text": [
      "2022-03-30 09:46:20.226687: I tensorflow/stream_executor/cuda/cuda_dnn.cc:368] Loaded cuDNN version 8100\n"
     ]
    },
    {
     "name": "stdout",
     "output_type": "stream",
     "text": [
      "30/30 [==============================] - 9s 48ms/step - loss: 20.4511 - mean_absolute_error: 9.7073 - val_loss: 2.8668 - val_mean_absolute_error: 1.4593\n",
      "Epoch 2/5\n",
      "30/30 [==============================] - 1s 34ms/step - loss: 2.7536 - mean_absolute_error: 1.4457 - val_loss: 1.6776 - val_mean_absolute_error: 0.8350\n",
      "Epoch 3/5\n",
      "30/30 [==============================] - 1s 36ms/step - loss: 2.3533 - mean_absolute_error: 1.2203 - val_loss: 1.7086 - val_mean_absolute_error: 0.8308\n",
      "Epoch 4/5\n",
      "30/30 [==============================] - 1s 35ms/step - loss: 1.9099 - mean_absolute_error: 0.9636 - val_loss: 2.0802 - val_mean_absolute_error: 0.9516\n",
      "Epoch 5/5\n",
      "30/30 [==============================] - 1s 34ms/step - loss: 1.8250 - mean_absolute_error: 0.9166 - val_loss: 1.7534 - val_mean_absolute_error: 0.8270\n"
     ]
    }
   ],
   "source": [
    "history = model_cnn.fit(data.TR_features, \n",
    "    data.TR_targets, \n",
    "    epochs=5, \n",
    "    validation_data=(data.TS_features, data.TS_targets)\n",
    "    )\n"
   ]
  },
  {
   "cell_type": "code",
   "execution_count": 21,
   "metadata": {},
   "outputs": [
    {
     "name": "stdout",
     "output_type": "stream",
     "text": [
      "8/8 - 1s - loss: 0.9760 - mean_absolute_error: 0.4660 - 857ms/epoch - 107ms/step\n"
     ]
    },
    {
     "data": {
      "image/png": "[encoded data removed]",
      "text/plain": [
       "<Figure size 432x288 with 1 Axes>"
      ]
     },
     "metadata": {
      "needs_background": "light"
     },
     "output_type": "display_data"
    }
   ],
   "source": [
    "plt.plot(history.history['mean_absolute_error'], label='mean_absolute_error')\n",
    "plt.plot(history.history['val_mean_absolute_error'], label = 'val_mean_absolute_error')\n",
    "plt.xlabel('Epoch')\n",
    "plt.ylabel('Mean Absolute Error')\n",
    "#plt.ylim([0.5, 1])\n",
    "plt.legend(loc='upper right')\n",
    "\n",
    "test_loss, test_acc = model_cnn.evaluate(data.TS_features,  data.TS_targets, verbose=2)\n"
   ]
  },
  {
   "cell_type": "markdown",
   "metadata": {},
   "source": [
    "#test data"
   ]
  },
  {
   "cell_type": "code",
   "execution_count": 1,
   "metadata": {},
   "outputs": [],
   "source": [
    "import pandas as pd\n",
    "import numpy as np"
   ]
  },
  {
   "cell_type": "code",
   "execution_count": 2,
   "metadata": {},
   "outputs": [],
   "source": [
    "with open(\"data/laser_log/laser_log2203wmodify.csv\", \"r\") as data:\n",
    "    laser_db = pd.read_csv(data, delimiter=\";\").copy()"
   ]
  },
  {
   "cell_type": "code",
   "execution_count": 4,
   "metadata": {},
   "outputs": [],
   "source": [
    "fill_value = 20\n",
    "\n",
    "laser_list= pd.DataFrame()\n",
    "target_list= pd.DataFrame()\n",
    "inst = 1 #il counter delle istanze inizia da 1\n",
    "laser_id = 0\n",
    "new = True\n",
    "#laser_angle=[]\n",
    "#laser_range=[]\n",
    "laser_inst=pd.Series(dtype=\"float32\")\n",
    "target_inst=pd.Series(dtype=\"float32\")\n",
    "\n",
    "for i in laser_db.values:\n",
    "    if not new:\n",
    "        if i[0] == inst:\n",
    "            if i[3] == np.inf:\n",
    "                laser_inst[\"range{}\".format(laser_id)]=fill_value\n",
    "                laser_inst[\"angle{}\".format(laser_id)]=i[2]\n",
    "            else:\n",
    "                laser_inst[\"range{}\".format(laser_id)]=i[3]\n",
    "                laser_inst[\"angle{}\".format(laser_id)]=i[2]                \n",
    "            #laser_angle.append(i[2])\n",
    "            #laser_range.append(i[3])\n",
    "        else:\n",
    "            if True:\n",
    "                laser_inst[\"time\"] = i[1]\n",
    "            \n",
    "            #laser_pd_series= pd.Series([laser_angle,laser_range], name=inst)\n",
    "            #laser_list= pd.concat([laser_list,laser_pd_series], axis=1) \n",
    "\n",
    "            laser_inst.name=inst\n",
    "\n",
    "            laser_list=pd.concat([laser_list, laser_inst.copy()],axis=1) \n",
    "\n",
    "            inst+=1\n",
    "\n",
    "            new = True\n",
    "            \n",
    "    if new:\n",
    "        target_inst[\"pos_x\"] = i[4]\n",
    "        target_inst[\"pos_y\"] = i[5]\n",
    "        target_inst[\"pos_yaw\"] = i[6]\n",
    "        target_inst.name= inst\n",
    "        target_list=pd.concat([target_list,target_inst],axis=1)\n",
    "\n",
    "        #laser_angle=[]\n",
    "        #laser_range=[]\n",
    "\n",
    "        #laser_angle.append(i[2])\n",
    "        #laser_range.append(i[3]) \n",
    "\n",
    "        laser_id = 0\n",
    "\n",
    "        if i[3] == np.inf:\n",
    "            laser_inst[\"range{}\".format(laser_id)]=fill_value\n",
    "            laser_inst[\"angle{}\".format(laser_id)]=i[2]\n",
    "        else:\n",
    "            laser_inst[\"range{}\".format(laser_id)]=i[3]\n",
    "            laser_inst[\"angle{}\".format(laser_id)]=i[2]  \n",
    "    \n",
    "        new = False\n",
    "        \n",
    "    laser_id+=1\n",
    "\n",
    "if True:\n",
    "    laser_inst[\"time\"] = i[1]\n",
    "\n",
    "#laser_pd_series= pd.Series([laser_angle,laser_range], name=inst)\n",
    "#laser_list= pd.concat([laser_list,laser_pd_series], axis=1) \n",
    "\n",
    "laser_inst.name=inst\n",
    "\n",
    "laser_list=pd.concat([laser_list, laser_inst.copy()],axis=1) "
   ]
  }
 ],
 "metadata": {
  "interpreter": {
   "hash": "36cf16204b8548560b1c020c4e8fb5b57f0e4c58016f52f2d4be01e192833930"
  },
  "kernelspec": {
   "display_name": "Python 3.9.10 64-bit",
   "name": "python3"
  },
  "language_info": {
   "codemirror_mode": {
    "name": "ipython",
    "version": 3
   },
   "file_extension": ".py",
   "mimetype": "text/x-python",
   "name": "python",
   "nbconvert_exporter": "python",
   "pygments_lexer": "ipython3",
   "version": "3.9.11"
  },
  "orig_nbformat": 4
 },
 "nbformat": 4,
 "nbformat_minor": 2
}
