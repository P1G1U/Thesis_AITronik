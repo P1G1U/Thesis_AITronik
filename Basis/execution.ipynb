{
 "cells": [
  {
   "cell_type": "markdown",
   "metadata": {},
   "source": [
    "#define model"
   ]
  },
  {
   "cell_type": "code",
   "execution_count": 10,
   "metadata": {},
   "outputs": [],
   "source": [
    "import tensorflow as tf\n",
    "from tensorflow.keras import layers, models\n",
    "from data_mgmt import DAO\n",
    "import matplotlib.pyplot as plt"
   ]
  },
  {
   "cell_type": "code",
   "execution_count": 2,
   "metadata": {},
   "outputs": [],
   "source": [
    "def model_define(features, drop_rate):\n",
    "\n",
    "    tf.summary.image(\"laser_inst\", features)\n",
    "\n",
    "    model = models.Sequential()\n",
    "\n",
    "    model.add(layers.Conv2D(\n",
    "        32, (11,1), padding=\"same\", input_shape=(720,1,1),\n",
    "        name=\"conv_1\" ))\n",
    "    model.add(layers.Conv2D(\n",
    "        64, kernel_size=(5,1), padding=\"same\",\n",
    "        name=\"conv_2\" ))\n",
    "    model.add(layers.MaxPooling2D(\n",
    "        (2,1), strides=2, padding=\"same\",\n",
    "        name=\"pool_1\" ))\n",
    "    model.add(layers.Conv2D(\n",
    "        256, kernel_size=(5,1), padding=\"same\",\n",
    "        name=\"conv_3\" ))\n",
    "    model.add(layers.MaxPooling2D(\n",
    "        (2,1), strides=2, padding=\"same\",\n",
    "        name=\"pool_2\" ))\n",
    "\n",
    "    model.add(layers.Flatten())\n",
    "\n",
    "    model.add(layers.Dropout(drop_rate))\n",
    "    model.add(layers.Dense(1024, activation=\"relu\", name=\"dense_1\"))\n",
    "\n",
    "    model.add(layers.Dropout(drop_rate))\n",
    "    model.add(layers.Dense(128, activation=\"relu\", name=\"dense_2\"))\n",
    "\n",
    "    model.add(layers.Dense(3, name=\"dense_3\"))\n",
    "\n",
    "    return model"
   ]
  },
  {
   "cell_type": "code",
   "execution_count": 3,
   "metadata": {},
   "outputs": [],
   "source": [
    "filename=\"laser_log/laser_log.csv\"\n",
    "\n",
    "data = DAO(filename)\n",
    "\n",
    "data.read()\n",
    "data.divide_data(0.25)"
   ]
  },
  {
   "cell_type": "code",
   "execution_count": 4,
   "metadata": {},
   "outputs": [
    {
     "name": "stderr",
     "output_type": "stream",
     "text": [
      "2022-03-16 11:37:33.198913: I tensorflow/stream_executor/cuda/cuda_gpu_executor.cc:936] successful NUMA node read from SysFS had negative value (-1), but there must be at least one NUMA node, so returning NUMA node zero\n",
      "2022-03-16 11:37:33.199369: W tensorflow/stream_executor/platform/default/dso_loader.cc:64] Could not load dynamic library 'libcudart.so.11.0'; dlerror: libcudart.so.11.0: cannot open shared object file: No such file or directory\n",
      "2022-03-16 11:37:33.199489: W tensorflow/stream_executor/platform/default/dso_loader.cc:64] Could not load dynamic library 'libcublas.so.11'; dlerror: libcublas.so.11: cannot open shared object file: No such file or directory\n",
      "2022-03-16 11:37:33.199596: W tensorflow/stream_executor/platform/default/dso_loader.cc:64] Could not load dynamic library 'libcublasLt.so.11'; dlerror: libcublasLt.so.11: cannot open shared object file: No such file or directory\n",
      "2022-03-16 11:37:33.199699: W tensorflow/stream_executor/platform/default/dso_loader.cc:64] Could not load dynamic library 'libcufft.so.10'; dlerror: libcufft.so.10: cannot open shared object file: No such file or directory\n",
      "2022-03-16 11:37:33.199802: W tensorflow/stream_executor/platform/default/dso_loader.cc:64] Could not load dynamic library 'libcurand.so.10'; dlerror: libcurand.so.10: cannot open shared object file: No such file or directory\n",
      "2022-03-16 11:37:33.199901: W tensorflow/stream_executor/platform/default/dso_loader.cc:64] Could not load dynamic library 'libcusolver.so.11'; dlerror: libcusolver.so.11: cannot open shared object file: No such file or directory\n",
      "2022-03-16 11:37:33.200049: W tensorflow/stream_executor/platform/default/dso_loader.cc:64] Could not load dynamic library 'libcusparse.so.11'; dlerror: libcusparse.so.11: cannot open shared object file: No such file or directory\n",
      "2022-03-16 11:37:33.200150: W tensorflow/stream_executor/platform/default/dso_loader.cc:64] Could not load dynamic library 'libcudnn.so.8'; dlerror: libcudnn.so.8: cannot open shared object file: No such file or directory\n",
      "2022-03-16 11:37:33.200166: W tensorflow/core/common_runtime/gpu/gpu_device.cc:1850] Cannot dlopen some GPU libraries. Please make sure the missing libraries mentioned above are installed properly if you would like to use GPU. Follow the guide at https://www.tensorflow.org/install/gpu for how to download and setup the required libraries for your platform.\n",
      "Skipping registering GPU devices...\n",
      "2022-03-16 11:37:33.274088: W tensorflow/core/framework/cpu_allocator_impl.cc:82] Allocation of 188743680 exceeds 10% of free system memory.\n",
      "2022-03-16 11:37:33.460607: W tensorflow/core/framework/cpu_allocator_impl.cc:82] Allocation of 188743680 exceeds 10% of free system memory.\n",
      "2022-03-16 11:37:33.501651: W tensorflow/core/framework/cpu_allocator_impl.cc:82] Allocation of 188743680 exceeds 10% of free system memory.\n"
     ]
    }
   ],
   "source": [
    "model_cnn = model_define(data.features, 0.5)"
   ]
  },
  {
   "cell_type": "code",
   "execution_count": 7,
   "metadata": {},
   "outputs": [],
   "source": [
    "model_cnn.compile(optimizer = \"adam\",\n",
    "    loss=tf.keras.losses.MeanSquaredError(),\n",
    "    metrics=['mean_absolute_error'])"
   ]
  },
  {
   "cell_type": "code",
   "execution_count": 7,
   "metadata": {},
   "outputs": [
    {
     "name": "stdout",
     "output_type": "stream",
     "text": [
      "Model: \"sequential\"\n",
      "_________________________________________________________________\n",
      " Layer (type)                Output Shape              Param #   \n",
      "=================================================================\n",
      " conv_1 (Conv2D)             (None, 720, 1, 32)        384       \n",
      "                                                                 \n",
      " conv_2 (Conv2D)             (None, 720, 1, 64)        10304     \n",
      "                                                                 \n",
      " pool_1 (MaxPooling2D)       (None, 360, 1, 64)        0         \n",
      "                                                                 \n",
      " conv_3 (Conv2D)             (None, 360, 1, 256)       82176     \n",
      "                                                                 \n",
      " pool_2 (MaxPooling2D)       (None, 180, 1, 256)       0         \n",
      "                                                                 \n",
      " flatten (Flatten)           (None, 46080)             0         \n",
      "                                                                 \n",
      " dropout (Dropout)           (None, 46080)             0         \n",
      "                                                                 \n",
      " dense_1 (Dense)             (None, 1024)              47186944  \n",
      "                                                                 \n",
      " dropout_1 (Dropout)         (None, 1024)              0         \n",
      "                                                                 \n",
      " dense_2 (Dense)             (None, 128)               131200    \n",
      "                                                                 \n",
      " dense_3 (Dense)             (None, 3)                 387       \n",
      "                                                                 \n",
      "=================================================================\n",
      "Total params: 47,411,395\n",
      "Trainable params: 47,411,395\n",
      "Non-trainable params: 0\n",
      "_________________________________________________________________\n"
     ]
    }
   ],
   "source": [
    "model_cnn.summary()"
   ]
  },
  {
   "cell_type": "code",
   "execution_count": 8,
   "metadata": {},
   "outputs": [],
   "source": [
    "data.TR_features=tf.reshape(data.TR_features,[-1,720,1,1])\n",
    "data.TS_features=tf.reshape(data.TS_features,[-1,720,1,1])\n",
    "data.TR_targets=tf.reshape(data.TR_targets,[-1,3,1,1])\n",
    "data.TS_targets=tf.reshape(data.TS_targets,[-1,3,1,1])"
   ]
  },
  {
   "cell_type": "code",
   "execution_count": 9,
   "metadata": {},
   "outputs": [
    {
     "name": "stdout",
     "output_type": "stream",
     "text": [
      "Epoch 1/10\n"
     ]
    },
    {
     "name": "stderr",
     "output_type": "stream",
     "text": [
      "2022-03-16 11:38:27.519116: W tensorflow/core/framework/cpu_allocator_impl.cc:82] Allocation of 188743680 exceeds 10% of free system memory.\n",
      "2022-03-16 11:38:27.555388: W tensorflow/core/framework/cpu_allocator_impl.cc:82] Allocation of 188743680 exceeds 10% of free system memory.\n"
     ]
    },
    {
     "name": "stdout",
     "output_type": "stream",
     "text": [
      "22/22 [==============================] - 13s 545ms/step - loss: 287.5292 - mean_absolute_error: 8.2009 - val_loss: 24.9995 - val_mean_absolute_error: 4.3648\n",
      "Epoch 2/10\n",
      "22/22 [==============================] - 12s 531ms/step - loss: 22.8684 - mean_absolute_error: 4.0060 - val_loss: 20.9609 - val_mean_absolute_error: 4.0197\n",
      "Epoch 3/10\n",
      "22/22 [==============================] - 11s 519ms/step - loss: 20.6049 - mean_absolute_error: 3.8609 - val_loss: 20.8644 - val_mean_absolute_error: 4.0087\n",
      "Epoch 4/10\n",
      "22/22 [==============================] - 11s 509ms/step - loss: 20.1137 - mean_absolute_error: 3.8187 - val_loss: 20.6927 - val_mean_absolute_error: 3.9844\n",
      "Epoch 5/10\n",
      "22/22 [==============================] - 11s 507ms/step - loss: 19.8954 - mean_absolute_error: 3.8118 - val_loss: 20.5633 - val_mean_absolute_error: 3.9695\n",
      "Epoch 6/10\n",
      "22/22 [==============================] - 11s 494ms/step - loss: 19.9757 - mean_absolute_error: 3.8219 - val_loss: 20.7574 - val_mean_absolute_error: 4.0019\n",
      "Epoch 7/10\n",
      "22/22 [==============================] - 11s 492ms/step - loss: 19.8077 - mean_absolute_error: 3.7874 - val_loss: 21.2078 - val_mean_absolute_error: 4.0554\n",
      "Epoch 8/10\n",
      "22/22 [==============================] - 11s 484ms/step - loss: 19.6639 - mean_absolute_error: 3.7956 - val_loss: 20.1128 - val_mean_absolute_error: 3.8852\n",
      "Epoch 9/10\n",
      "22/22 [==============================] - 11s 518ms/step - loss: 19.6725 - mean_absolute_error: 3.7913 - val_loss: 20.2276 - val_mean_absolute_error: 3.9195\n",
      "Epoch 10/10\n",
      "22/22 [==============================] - 11s 520ms/step - loss: 19.6668 - mean_absolute_error: 3.7842 - val_loss: 19.9954 - val_mean_absolute_error: 3.8494\n"
     ]
    }
   ],
   "source": [
    "history = model_cnn.fit(data.TR_features, data.TR_targets, epochs=10, validation_data=(data.TS_features, data.TS_targets))\n"
   ]
  },
  {
   "cell_type": "code",
   "execution_count": 15,
   "metadata": {},
   "outputs": [
    {
     "name": "stdout",
     "output_type": "stream",
     "text": [
      "8/8 - 1s - loss: 19.9954 - mean_absolute_error: 3.8494 - 980ms/epoch - 122ms/step\n"
     ]
    },
    {
     "data": {
      "image/png": "[encoded data removed]",
      "text/plain": [
       "<Figure size 432x288 with 1 Axes>"
      ]
     },
     "metadata": {
      "needs_background": "light"
     },
     "output_type": "display_data"
    }
   ],
   "source": [
    "plt.plot(history.history['mean_absolute_error'], label='mean_absolute_error')\n",
    "plt.plot(history.history['val_mean_absolute_error'], label = 'val_mean_absolute_error')\n",
    "plt.xlabel('Epoch')\n",
    "plt.ylabel('Mean Absolute Error')\n",
    "#plt.ylim([0.5, 1])\n",
    "plt.legend(loc='upper right')\n",
    "\n",
    "test_loss, test_acc = model_cnn.evaluate(data.TS_features,  data.TS_targets, verbose=2)\n"
   ]
  }
 ],
 "metadata": {
  "interpreter": {
   "hash": "36cf16204b8548560b1c020c4e8fb5b57f0e4c58016f52f2d4be01e192833930"
  },
  "kernelspec": {
   "display_name": "Python 3.9.10 64-bit",
   "name": "python3"
  },
  "language_info": {
   "codemirror_mode": {
    "name": "ipython",
    "version": 3
   },
   "file_extension": ".py",
   "mimetype": "text/x-python",
   "name": "python",
   "nbconvert_exporter": "python",
   "pygments_lexer": "ipython3",
   "version": "3.9.10"
  },
  "orig_nbformat": 4
 },
 "nbformat": 4,
 "nbformat_minor": 2
}
