{
 "cells": [
  {
   "cell_type": "markdown",
   "metadata": {},
   "source": [
    "Playground to test different parameters and their impact to the model and to the results"
   ]
  },
  {
   "cell_type": "code",
   "execution_count": null,
   "metadata": {},
   "outputs": [],
   "source": [
    "import model as m\n",
    "import numpy as np\n",
    "from sklearn.metrics import mean_absolute_error, mean_squared_error\n",
    "import os\n",
    "\n",
    "os.environ['TF_GPU_ALLOCATOR']='cuda_malloc_async'\n",
    "os.environ[\"TF_CPP_VMODULE\"]=\"gpu_process_state=10,gpu_cudamallocasync_allocator=10\"\n",
    "\n",
    "import tensorflow as tf\n",
    "\n",
    "gpus = tf.config.experimental.list_physical_devices('GPU')\n",
    "if gpus:\n",
    "    try:\n",
    "        # Currently, memory growth needs to be the same across GPUs\n",
    "        for gpu in gpus:\n",
    "            tf.config.set_logical_device_configuration(\n",
    "                gpu,\n",
    "                [tf.config.LogicalDeviceConfiguration(memory_limit=256)])\n",
    "\n",
    "        logical_gpus = tf.config.experimental.list_logical_devices('GPU')\n",
    "\n",
    "    except RuntimeError as e:\n",
    "        # Memory growth must be set before GPUs have been initialized\n",
    "        print(e)"
   ]
  },
  {
   "cell_type": "code",
   "execution_count": null,
   "metadata": {},
   "outputs": [],
   "source": [
    "model= m.NN_Model()\n",
    "\n",
    "#the multi parameters could crash, consider to lauch several times with different values\n",
    "beta=[0.0]\n",
    "drop=[0.4]\n",
    "epochs=200\n",
    "batch_size=16\n",
    "\n",
    "#numbers to regroup the epochs (there is a parameter in tf.compile for the future case)\n",
    "group_epochs=1\n",
    "\n",
    "#unidir True if you want to standardize the yaw value to 0, update becomes True if at least 1 time the model has reach a val_loss < min_pos_error\n",
    "unidir=True\n",
    "update=False\n",
    "\n",
    "results=[]\n",
    "min_pos_error=3.0\n",
    "\n",
    "for i in beta:\n",
    "    for j in drop:\n",
    "        #with sess.as_default():\n",
    "            model.model_define_1(drop_rate=j)\n",
    "            model.set_beta(i)\n",
    "            model.model_compile(\"adam\",model.pos_loss_1,['mean_absolute_error'])\n",
    "\n",
    "            model.get_data(\"laser_log/datasetnowall.csv\",unidir)\n",
    "\n",
    "            print(model.data_tensor.TR_features_unidir)\n",
    "            print(model.data_tensor.TS_features_unidir)\n",
    "            print(model.data_tensor.TR_targets_unidir)\n",
    "            print(model.data_tensor.TS_targets_unidir)\n",
    "\n",
    "            for step in range(epochs//group_epochs):\n",
    "\n",
    "                if step %5 == 0:\n",
    "                    print(\"Epoch: \",step)\n",
    "\n",
    "                history = model.model_run(group_epochs,batch_size, verbose=0, unidir=unidir)\n",
    "                \n",
    "                if model.num_model == 1:\n",
    "                    pos_mse,pos_mae = model.get_error(verbose=1)\n",
    "                    results.append({\"beta\":i,\"drop-out\":j,\"epochs\":(step+1)*group_epochs,\"history\":history,\"position squared error\":pos_mse, \"position absolute error\":pos_mae}) \n",
    "\n",
    "                if model.num_model == 2:\n",
    "                    pos_mse,rot_mse,pos_mae,rot_mae = model.get_error(verbose=1)\n",
    "                    results.append({\"beta\":i,\"drop-out\":j,\"epochs\":(step+1)*group_epochs,\"history\":history,\"position squared error\":pos_mse, \"rotation squared error\":rot_mse, \"position absolute error\":pos_mae, \"rotation absolute error\":rot_mae})  \n",
    " \n",
    "                else:\n",
    "                    pos_mae = min_pos_error+1\n",
    "\n",
    "                if pos_mae < min_pos_error:\n",
    "                    model.model_cnn.save_weights(\"models/cp-epoch-train{}{}.ckpt\".format(i,j))\n",
    "                    min_pos_error=pos_mae\n",
    "                    update = True\n",
    "\n",
    "print(update)"
   ]
  },
  {
   "cell_type": "code",
   "execution_count": 4,
   "metadata": {},
   "outputs": [],
   "source": [
    "with open('test46k.csv', 'w') as f:\n",
    "    f.write(\"beta;dropout;epochs;pos_mse;pos_mae;rot_mse;rot_mae\\n\")\n",
    "    for item in results:\n",
    "        f.write(\"{};{};{};{};{};{};{}\\n\".format(item[\"beta\"],item[\"drop-out\"],item[\"epochs\"],item[\"position squared error\"],item[\"position absolute error\"],item[\"rotation squared error\"],item[\"rotation absolute error\"]))"
   ]
  },
  {
   "cell_type": "markdown",
   "metadata": {},
   "source": [
    "#refactor the data"
   ]
  },
  {
   "cell_type": "code",
   "execution_count": 3,
   "metadata": {},
   "outputs": [],
   "source": [
    "import pandas as pd\n",
    "\n",
    "with open(\"data/laser_log/datasetwall.csv\", \"r\") as data:\n",
    "            laser_db = pd.read_csv(data, delimiter=\";\")"
   ]
  },
  {
   "cell_type": "code",
   "execution_count": 21,
   "metadata": {},
   "outputs": [],
   "source": [
    "for i in range(720):\n",
    "    laser_db.loc[laser_db.index%720 == i, \"angle\"]= np.radians((i-360)/2)"
   ]
  },
  {
   "cell_type": "code",
   "execution_count": 22,
   "metadata": {},
   "outputs": [],
   "source": [
    "with open('data/datasetwallmod.csv', 'w') as f:\n",
    "    f.write(\"cnt;time;angle;range;pos_x;pos_y;pos_yaw\\n\")\n",
    "    for item in laser_db.values:\n",
    "        \n",
    "        f.write(\"{};0;{};{};{};{};{}\\n\".format(item[0],item[2],item[3],item[4],item[5],item[6]))\n"
   ]
  },
  {
   "cell_type": "markdown",
   "metadata": {},
   "source": [
    "#Valutation"
   ]
  },
  {
   "cell_type": "code",
   "execution_count": null,
   "metadata": {},
   "outputs": [],
   "source": [
    "model.model_cnn.load_weights(\"models/cp-epoch-train.ckpt\")"
   ]
  },
  {
   "cell_type": "code",
   "execution_count": 4,
   "metadata": {},
   "outputs": [],
   "source": [
    "data_test = m.DAO(\"laser_log/laser_log2203w.csv\")\n",
    "\n",
    "data_test.read()\n",
    "data_test.divide_data(0.25)\n",
    "\n",
    "data_tensor_test=m.DAO()\n",
    "\n",
    "data_tensor_test.TR_features=tf.reshape(data_test.TR_features,[-1,720,1,1])\n",
    "data_tensor_test.TS_features=tf.reshape(data_test.TS_features,[-1,720,1,1])\n",
    "data_tensor_test.TR_targets=tf.reshape(data_test.TR_targets,[-1,3])\n",
    "data_tensor_test.TS_targets=tf.reshape(data_test.TS_targets,[-1,3])"
   ]
  },
  {
   "cell_type": "code",
   "execution_count": 26,
   "metadata": {},
   "outputs": [],
   "source": [
    "result = model.model_cnn.predict(data_tensor_test.TS_features)\n",
    "pos_test = result[:,0:2]\n",
    "rot_test = result[:,2]\n",
    "pos_real = np.array([data_test.TS_targets[\"pos_x\"].to_list(),data_test.TS_targets[\"pos_y\"].to_list()]).T\n",
    "rot_real = (data_test.TS_targets[\"pos_yaw\"]).to_numpy()"
   ]
  },
  {
   "cell_type": "code",
   "execution_count": 24,
   "metadata": {},
   "outputs": [],
   "source": [
    "pos_mae = mean_squared_error(pos_real,pos_test)\n",
    "rot_mae = mean_absolute_error(rot_real,rot_test)"
   ]
  },
  {
   "cell_type": "code",
   "execution_count": 27,
   "metadata": {},
   "outputs": [],
   "source": [
    "with open('predict_data2.csv', 'w') as f:\n",
    "    for i in range(len(rot_real)):\n",
    "        f.write(\"{};{};{};{};{};{}\\n\".format(pos_real[i][0],pos_real[i][1],rot_real[i],pos_test[i][0],pos_test[i][1],rot_test[i]))"
   ]
  }
 ],
 "metadata": {
  "interpreter": {
   "hash": "36cf16204b8548560b1c020c4e8fb5b57f0e4c58016f52f2d4be01e192833930"
  },
  "kernelspec": {
   "display_name": "Python 3.9.10 64-bit",
   "name": "python3"
  },
  "language_info": {
   "codemirror_mode": {
    "name": "ipython",
    "version": 3
   },
   "file_extension": ".py",
   "mimetype": "text/x-python",
   "name": "python",
   "nbconvert_exporter": "python",
   "pygments_lexer": "ipython3",
   "version": "3.9.11"
  },
  "orig_nbformat": 4
 },
 "nbformat": 4,
 "nbformat_minor": 2
}
