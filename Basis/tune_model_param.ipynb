{
 "cells": [
  {
   "cell_type": "code",
   "execution_count": 1,
   "metadata": {},
   "outputs": [
    {
     "name": "stderr",
     "output_type": "stream",
     "text": [
      "2022-03-25 10:12:22.614528: I tensorflow/stream_executor/cuda/cuda_gpu_executor.cc:936] successful NUMA node read from SysFS had negative value (-1), but there must be at least one NUMA node, so returning NUMA node zero\n",
      "2022-03-25 10:12:22.728538: I tensorflow/stream_executor/cuda/cuda_gpu_executor.cc:936] successful NUMA node read from SysFS had negative value (-1), but there must be at least one NUMA node, so returning NUMA node zero\n",
      "2022-03-25 10:12:22.729058: I tensorflow/stream_executor/cuda/cuda_gpu_executor.cc:936] successful NUMA node read from SysFS had negative value (-1), but there must be at least one NUMA node, so returning NUMA node zero\n",
      "2022-03-25 10:12:22.736192: I tensorflow/stream_executor/cuda/cuda_gpu_executor.cc:936] successful NUMA node read from SysFS had negative value (-1), but there must be at least one NUMA node, so returning NUMA node zero\n",
      "2022-03-25 10:12:22.736718: I tensorflow/stream_executor/cuda/cuda_gpu_executor.cc:936] successful NUMA node read from SysFS had negative value (-1), but there must be at least one NUMA node, so returning NUMA node zero\n",
      "2022-03-25 10:12:22.737092: I tensorflow/stream_executor/cuda/cuda_gpu_executor.cc:936] successful NUMA node read from SysFS had negative value (-1), but there must be at least one NUMA node, so returning NUMA node zero\n",
      "2022-03-25 10:12:24.703556: I tensorflow/stream_executor/cuda/cuda_gpu_executor.cc:936] successful NUMA node read from SysFS had negative value (-1), but there must be at least one NUMA node, so returning NUMA node zero\n",
      "2022-03-25 10:12:24.703938: I tensorflow/stream_executor/cuda/cuda_gpu_executor.cc:936] successful NUMA node read from SysFS had negative value (-1), but there must be at least one NUMA node, so returning NUMA node zero\n",
      "2022-03-25 10:12:24.704263: I tensorflow/stream_executor/cuda/cuda_gpu_executor.cc:936] successful NUMA node read from SysFS had negative value (-1), but there must be at least one NUMA node, so returning NUMA node zero\n",
      "2022-03-25 10:12:24.704481: I tensorflow/core/common_runtime/gpu/gpu_process_state.cc:214] Using CUDA malloc Async allocator for GPU: 0\n",
      "2022-03-25 10:12:24.708050: I tensorflow/core/common_runtime/gpu/gpu_device.cc:1525] Created device /job:localhost/replica:0/task:0/device:GPU:0 with 256 MB memory:  -> device: 0, name: NVIDIA GeForce GTX 1050, pci bus id: 0000:02:00.0, compute capability: 6.1\n"
     ]
    }
   ],
   "source": [
    "import model as m\n",
    "import numpy as np\n",
    "from sklearn.metrics import mean_absolute_error, mean_squared_error\n",
    "import os\n",
    "\n",
    "os.environ['TF_GPU_ALLOCATOR']='cuda_malloc_async'\n",
    "os.environ[\"TF_CPP_VMODULE\"]=\"gpu_process_state=10,gpu_cudamallocasync_allocator=10\"\n",
    "\n",
    "import tensorflow as tf\n",
    "\n",
    "gpus = tf.config.experimental.list_physical_devices('GPU')\n",
    "if gpus:\n",
    "    try:\n",
    "        # Currently, memory growth needs to be the same across GPUs\n",
    "        for gpu in gpus:\n",
    "            tf.config.set_logical_device_configuration(\n",
    "                gpu,\n",
    "                [tf.config.LogicalDeviceConfiguration(memory_limit=256)])\n",
    "\n",
    "        logical_gpus = tf.config.experimental.list_logical_devices('GPU')\n",
    "\n",
    "    except RuntimeError as e:\n",
    "        # Memory growth must be set before GPUs have been initialized\n",
    "        print(e)"
   ]
  },
  {
   "cell_type": "code",
   "execution_count": 2,
   "metadata": {},
   "outputs": [
    {
     "name": "stderr",
     "output_type": "stream",
     "text": [
      "2022-03-25 10:12:58.164136: I tensorflow/stream_executor/cuda/cuda_dnn.cc:368] Loaded cuDNN version 8100\n"
     ]
    },
    {
     "name": "stdout",
     "output_type": "stream",
     "text": [
      "52/52 [==============================] - 11s 74ms/step - loss: 9.4032 - mean_absolute_error: 7.1370 - val_loss: 0.8152 - val_mean_absolute_error: 0.5963\n",
      "position mean square error: 0.7564465324874305 -- rotation mean square error: 1.0124634587112136 -- position mean absolute error: 0.5799864187716061 -- rotation mean absolute error: 0.6289680460734026\n",
      "52/52 [==============================] - 3s 67ms/step - loss: 0.8453 - mean_absolute_error: 0.6222 - val_loss: 0.7510 - val_mean_absolute_error: 0.5472\n",
      "position mean square error: 0.49782688253471563 -- rotation mean square error: 0.6658046475205062 -- position mean absolute error: 0.5246720079945828 -- rotation mean absolute error: 0.592117015526441\n",
      "52/52 [==============================] - 4s 68ms/step - loss: 0.6447 - mean_absolute_error: 0.4778 - val_loss: 0.8001 - val_mean_absolute_error: 0.6021\n",
      "position mean square error: 0.5198928673713012 -- rotation mean square error: 0.5993536725254348 -- position mean absolute error: 0.6094564660907139 -- rotation mean absolute error: 0.587444527183577\n",
      "52/52 [==============================] - 4s 69ms/step - loss: 0.6277 - mean_absolute_error: 0.4600 - val_loss: 0.6319 - val_mean_absolute_error: 0.4462\n",
      "position mean square error: 0.41459377148432813 -- rotation mean square error: 0.336373697617638 -- position mean absolute error: 0.48049241185602926 -- rotation mean absolute error: 0.3775267451447017\n",
      "52/52 [==============================] - 4s 69ms/step - loss: 0.5041 - mean_absolute_error: 0.3701 - val_loss: 0.5784 - val_mean_absolute_error: 0.4298\n",
      "position mean square error: 0.35164716648785255 -- rotation mean square error: 0.2341096331161281 -- position mean absolute error: 0.49310364633090265 -- rotation mean absolute error: 0.3032889772772593\n",
      "52/52 [==============================] - 4s 68ms/step - loss: 0.4773 - mean_absolute_error: 0.3486 - val_loss: 0.6672 - val_mean_absolute_error: 0.4961\n",
      "position mean square error: 0.45328182078654505 -- rotation mean square error: 0.21057359482617324 -- position mean absolute error: 0.575691013979428 -- rotation mean absolute error: 0.33699038225068545\n",
      "52/52 [==============================] - 4s 74ms/step - loss: 0.4832 - mean_absolute_error: 0.3594 - val_loss: 0.7531 - val_mean_absolute_error: 0.5717\n",
      "position mean square error: 0.597148973519698 -- rotation mean square error: 0.2095439582428886 -- position mean absolute error: 0.6882987274786354 -- rotation mean absolute error: 0.3385011125907396\n",
      "52/52 [==============================] - 4s 73ms/step - loss: 0.5345 - mean_absolute_error: 0.3965 - val_loss: 0.3701 - val_mean_absolute_error: 0.2727\n",
      "position mean square error: 0.1517937578797891 -- rotation mean square error: 0.1223763165034179 -- position mean absolute error: 0.2999865601716527 -- rotation mean absolute error: 0.21821001713754626\n"
     ]
    },
    {
     "name": "stderr",
     "output_type": "stream",
     "text": [
      "2022-03-25 10:13:34.193092: W tensorflow/core/framework/cpu_allocator_impl.cc:82] Allocation of 188743680 exceeds 10% of free system memory.\n",
      "2022-03-25 10:13:34.342004: W tensorflow/core/framework/cpu_allocator_impl.cc:82] Allocation of 188743680 exceeds 10% of free system memory.\n",
      "2022-03-25 10:13:34.482514: W tensorflow/core/framework/cpu_allocator_impl.cc:82] Allocation of 188743680 exceeds 10% of free system memory.\n"
     ]
    },
    {
     "name": "stdout",
     "output_type": "stream",
     "text": [
      "52/52 [==============================] - 4s 73ms/step - loss: 0.4118 - mean_absolute_error: 0.3045 - val_loss: 0.7335 - val_mean_absolute_error: 0.5461\n",
      "position mean square error: 0.5401097660628893 -- rotation mean square error: 0.22302196724733514 -- position mean absolute error: 0.6310390727912516 -- rotation mean absolute error: 0.3761027844730972\n",
      "52/52 [==============================] - 4s 74ms/step - loss: 0.4470 - mean_absolute_error: 0.3298 - val_loss: 0.6412 - val_mean_absolute_error: 0.4625\n",
      "position mean square error: 0.45081524858287875 -- rotation mean square error: 0.15466701592073914 -- position mean absolute error: 0.5428628335768936 -- rotation mean absolute error: 0.3018844872281316\n",
      "52/52 [==============================] - 4s 70ms/step - loss: 0.4205 - mean_absolute_error: 0.3116 - val_loss: 0.3973 - val_mean_absolute_error: 0.2972\n",
      "position mean square error: 0.11950850069894997 -- rotation mean square error: 0.21616370842335825 -- position mean absolute error: 0.2559081807432311 -- rotation mean absolute error: 0.37986636831325704\n"
     ]
    },
    {
     "name": "stderr",
     "output_type": "stream",
     "text": [
      "2022-03-25 10:13:52.246178: W tensorflow/core/framework/cpu_allocator_impl.cc:82] Allocation of 188743680 exceeds 10% of free system memory.\n",
      "2022-03-25 10:13:52.372117: W tensorflow/core/framework/cpu_allocator_impl.cc:82] Allocation of 188743680 exceeds 10% of free system memory.\n"
     ]
    },
    {
     "name": "stdout",
     "output_type": "stream",
     "text": [
      "52/52 [==============================] - 4s 73ms/step - loss: 0.3563 - mean_absolute_error: 0.2617 - val_loss: 0.3125 - val_mean_absolute_error: 0.2295\n",
      "position mean square error: 0.11388090356409133 -- rotation mean square error: 0.08145863281129095 -- position mean absolute error: 0.25336772720088124 -- rotation mean absolute error: 0.18167800316095378\n",
      "52/52 [==============================] - 4s 75ms/step - loss: 0.3767 - mean_absolute_error: 0.2789 - val_loss: 0.4779 - val_mean_absolute_error: 0.3391\n",
      "position mean square error: 0.2432179335880572 -- rotation mean square error: 0.15143067022914947 -- position mean absolute error: 0.37095238325796265 -- rotation mean absolute error: 0.27548979995443496\n",
      "52/52 [==============================] - 4s 70ms/step - loss: 0.3356 - mean_absolute_error: 0.2459 - val_loss: 0.3080 - val_mean_absolute_error: 0.2287\n",
      "position mean square error: 0.09091426106470894 -- rotation mean square error: 0.09555012898052265 -- position mean absolute error: 0.23086595770918794 -- rotation mean absolute error: 0.2242642839386755\n",
      "52/52 [==============================] - 4s 74ms/step - loss: 0.3181 - mean_absolute_error: 0.2341 - val_loss: 0.4051 - val_mean_absolute_error: 0.2895\n",
      "position mean square error: 0.15998272039653838 -- rotation mean square error: 0.10319469469046408 -- position mean absolute error: 0.3164914377493096 -- rotation mean absolute error: 0.23545503947107066\n",
      "52/52 [==============================] - 4s 70ms/step - loss: 0.3564 - mean_absolute_error: 0.2644 - val_loss: 0.2682 - val_mean_absolute_error: 0.1968\n",
      "position mean square error: 0.08014494616608589 -- rotation mean square error: 0.07421166163884461 -- position mean absolute error: 0.20943751950084305 -- rotation mean absolute error: 0.1715099461760286\n",
      "52/52 [==============================] - 4s 73ms/step - loss: 0.3099 - mean_absolute_error: 0.2271 - val_loss: 0.3182 - val_mean_absolute_error: 0.2350\n",
      "position mean square error: 0.12173518602047069 -- rotation mean square error: 0.053485714497134886 -- position mean absolute error: 0.2711691839426844 -- rotation mean absolute error: 0.16277839045705758\n",
      "52/52 [==============================] - 4s 70ms/step - loss: 0.3221 - mean_absolute_error: 0.2362 - val_loss: 0.2986 - val_mean_absolute_error: 0.2205\n",
      "position mean square error: 0.0948278181116679 -- rotation mean square error: 0.08730002573139331 -- position mean absolute error: 0.2194861888318823 -- rotation mean absolute error: 0.22245307587946522\n",
      "52/52 [==============================] - 4s 69ms/step - loss: 0.3228 - mean_absolute_error: 0.2376 - val_loss: 0.2407 - val_mean_absolute_error: 0.1756\n",
      "position mean square error: 0.069301987706255 -- rotation mean square error: 0.059910004203262576 -- position mean absolute error: 0.18693650873972023 -- rotation mean absolute error: 0.15305762019784833\n",
      "52/52 [==============================] - 4s 77ms/step - loss: 0.2852 - mean_absolute_error: 0.2115 - val_loss: 0.4237 - val_mean_absolute_error: 0.3210\n",
      "position mean square error: 0.18363027678718696 -- rotation mean square error: 0.07332395716832679 -- position mean absolute error: 0.3785167235067617 -- rotation mean absolute error: 0.20585553740076207\n",
      "52/52 [==============================] - 4s 69ms/step - loss: 0.3130 - mean_absolute_error: 0.2328 - val_loss: 0.3891 - val_mean_absolute_error: 0.2922\n",
      "position mean square error: 0.17609875114419826 -- rotation mean square error: 0.05664781648515915 -- position mean absolute error: 0.3465072334527278 -- rotation mean absolute error: 0.18354070023612282\n",
      "52/52 [==============================] - 4s 70ms/step - loss: 0.3057 - mean_absolute_error: 0.2269 - val_loss: 0.4911 - val_mean_absolute_error: 0.3580\n",
      "position mean square error: 0.30099534821143975 -- rotation mean square error: 0.04420189913335733 -- position mean absolute error: 0.4636670456222865 -- rotation mean absolute error: 0.14655468378391043\n",
      "52/52 [==============================] - 4s 69ms/step - loss: 0.3292 - mean_absolute_error: 0.2404 - val_loss: 0.2608 - val_mean_absolute_error: 0.1913\n",
      "position mean square error: 0.089140395841551 -- rotation mean square error: 0.05608143321144057 -- position mean absolute error: 0.20331302676491123 -- rotation mean absolute error: 0.16715971570088484\n",
      "52/52 [==============================] - 4s 70ms/step - loss: 0.2980 - mean_absolute_error: 0.2193 - val_loss: 0.2893 - val_mean_absolute_error: 0.2168\n",
      "position mean square error: 0.08799225798474603 -- rotation mean square error: 0.08541719940493736 -- position mean absolute error: 0.21954990141122227 -- rotation mean absolute error: 0.21125363387567686\n",
      "52/52 [==============================] - 4s 73ms/step - loss: 0.2791 - mean_absolute_error: 0.2066 - val_loss: 0.3603 - val_mean_absolute_error: 0.2695\n",
      "position mean square error: 0.153002082265492 -- rotation mean square error: 0.039501459968854055 -- position mean absolute error: 0.3286978524201157 -- rotation mean absolute error: 0.15099098297410354\n",
      "52/52 [==============================] - 4s 73ms/step - loss: 0.2491 - mean_absolute_error: 0.1840 - val_loss: 0.2970 - val_mean_absolute_error: 0.2207\n",
      "position mean square error: 0.10748473324794504 -- rotation mean square error: 0.030628903067076496 -- position mean absolute error: 0.2742879794893403 -- rotation mean absolute error: 0.11343055845675677\n",
      "52/52 [==============================] - 4s 73ms/step - loss: 0.3034 - mean_absolute_error: 0.2217 - val_loss: 0.2458 - val_mean_absolute_error: 0.1800\n",
      "position mean square error: 0.07792699040079033 -- rotation mean square error: 0.038874871203344145 -- position mean absolute error: 0.21186531888491886 -- rotation mean absolute error: 0.11636208131339892\n",
      "52/52 [==============================] - 4s 73ms/step - loss: 0.2958 - mean_absolute_error: 0.2184 - val_loss: 0.3983 - val_mean_absolute_error: 0.2861\n",
      "position mean square error: 0.1960581010716693 -- rotation mean square error: 0.05124748818344549 -- position mean absolute error: 0.34592783591173704 -- rotation mean absolute error: 0.1663710954421147\n",
      "52/52 [==============================] - 4s 73ms/step - loss: 0.2887 - mean_absolute_error: 0.2105 - val_loss: 0.3114 - val_mean_absolute_error: 0.2288\n",
      "position mean square error: 0.11670002715212188 -- rotation mean square error: 0.05478464604861183 -- position mean absolute error: 0.2517220711066758 -- rotation mean absolute error: 0.18291426539520111\n",
      "52/52 [==============================] - 4s 74ms/step - loss: 0.2678 - mean_absolute_error: 0.1969 - val_loss: 0.3782 - val_mean_absolute_error: 0.2751\n",
      "position mean square error: 0.16916957140773337 -- rotation mean square error: 0.042180405927068045 -- position mean absolute error: 0.3391615198883112 -- rotation mean absolute error: 0.14692428871576038\n",
      "52/52 [==============================] - 4s 76ms/step - loss: 0.3827 - mean_absolute_error: 0.2845 - val_loss: 0.2726 - val_mean_absolute_error: 0.2027\n",
      "position mean square error: 0.08335656730495694 -- rotation mean square error: 0.061791453343349255 -- position mean absolute error: 0.22470371205592485 -- rotation mean absolute error: 0.15862537682528188\n",
      "52/52 [==============================] - 4s 74ms/step - loss: 0.2872 - mean_absolute_error: 0.2127 - val_loss: 0.2691 - val_mean_absolute_error: 0.1933\n",
      "position mean square error: 0.08860298700272827 -- rotation mean square error: 0.03064631912451033 -- position mean absolute error: 0.22795226745674566 -- rotation mean absolute error: 0.12386712225633184\n",
      "52/52 [==============================] - 4s 74ms/step - loss: 0.2746 - mean_absolute_error: 0.2016 - val_loss: 0.2631 - val_mean_absolute_error: 0.1929\n",
      "position mean square error: 0.06549899460967279 -- rotation mean square error: 0.05177722758371266 -- position mean absolute error: 0.19840752609709036 -- rotation mean absolute error: 0.18175589168287462\n",
      "52/52 [==============================] - 4s 74ms/step - loss: 0.2696 - mean_absolute_error: 0.1963 - val_loss: 0.2456 - val_mean_absolute_error: 0.1760\n",
      "position mean square error: 0.07555255906940699 -- rotation mean square error: 0.032422238525750095 -- position mean absolute error: 0.20150429304247325 -- rotation mean absolute error: 0.12497739077665737\n",
      "52/52 [==============================] - 4s 76ms/step - loss: 0.3613 - mean_absolute_error: 0.2678 - val_loss: 0.3707 - val_mean_absolute_error: 0.2659\n",
      "position mean square error: 0.1265989414472565 -- rotation mean square error: 0.08534491526866668 -- position mean absolute error: 0.27799956362268197 -- rotation mean absolute error: 0.2415711680905739\n",
      "52/52 [==============================] - 4s 74ms/step - loss: 0.3069 - mean_absolute_error: 0.2249 - val_loss: 0.2411 - val_mean_absolute_error: 0.1718\n",
      "position mean square error: 0.07656426661925352 -- rotation mean square error: 0.034368813007663396 -- position mean absolute error: 0.19352759951411816 -- rotation mean absolute error: 0.12831385472764115\n",
      "52/52 [==============================] - 4s 74ms/step - loss: 0.2845 - mean_absolute_error: 0.2069 - val_loss: 0.3353 - val_mean_absolute_error: 0.2422\n",
      "position mean square error: 0.14657576205894202 -- rotation mean square error: 0.030943030122866137 -- position mean absolute error: 0.30503485508766737 -- rotation mean absolute error: 0.11657943731768872\n",
      "52/52 [==============================] - 4s 76ms/step - loss: 0.3134 - mean_absolute_error: 0.2325 - val_loss: 0.4944 - val_mean_absolute_error: 0.3663\n",
      "position mean square error: 0.30691816891661944 -- rotation mean square error: 0.057699431591217314 -- position mean absolute error: 0.4527560522498255 -- rotation mean absolute error: 0.19346690166585748\n",
      "52/52 [==============================] - 4s 75ms/step - loss: 0.2799 - mean_absolute_error: 0.2085 - val_loss: 0.2979 - val_mean_absolute_error: 0.2238\n",
      "position mean square error: 0.11396935670737081 -- rotation mean square error: 0.023048377252724832 -- position mean absolute error: 0.2879344359671552 -- rotation mean absolute error: 0.09560933599338695\n",
      "52/52 [==============================] - 4s 75ms/step - loss: 0.2578 - mean_absolute_error: 0.1896 - val_loss: 0.3256 - val_mean_absolute_error: 0.2376\n",
      "position mean square error: 0.12433021074637618 -- rotation mean square error: 0.05881845286947054 -- position mean absolute error: 0.27905083480489434 -- rotation mean absolute error: 0.15476254036150017\n",
      "52/52 [==============================] - 4s 75ms/step - loss: 0.2558 - mean_absolute_error: 0.1880 - val_loss: 0.2257 - val_mean_absolute_error: 0.1650\n",
      "position mean square error: 0.0595118955702619 -- rotation mean square error: 0.034888432416159444 -- position mean absolute error: 0.1805921292429386 -- rotation mean absolute error: 0.13394281446199297\n",
      "52/52 [==============================] - 4s 83ms/step - loss: 0.2703 - mean_absolute_error: 0.1976 - val_loss: 0.2657 - val_mean_absolute_error: 0.1959\n",
      "position mean square error: 0.07917639893962927 -- rotation mean square error: 0.03508266372347937 -- position mean absolute error: 0.22043489155658788 -- rotation mean absolute error: 0.14688065639001527\n",
      "52/52 [==============================] - 4s 78ms/step - loss: 0.2553 - mean_absolute_error: 0.1871 - val_loss: 0.3453 - val_mean_absolute_error: 0.2568\n",
      "position mean square error: 0.14593716979962626 -- rotation mean square error: 0.028787537814273283 -- position mean absolute error: 0.3196945496716705 -- rotation mean absolute error: 0.1309158225432249\n",
      "52/52 [==============================] - 4s 69ms/step - loss: 0.2641 - mean_absolute_error: 0.1948 - val_loss: 0.5331 - val_mean_absolute_error: 0.4089\n",
      "position mean square error: 0.3614633497252071 -- rotation mean square error: 0.03566696033731565 -- position mean absolute error: 0.5471296643165919 -- rotation mean absolute error: 0.13241910970171594\n",
      "52/52 [==============================] - 4s 68ms/step - loss: 0.3225 - mean_absolute_error: 0.2381 - val_loss: 0.2016 - val_mean_absolute_error: 0.1479\n",
      "position mean square error: 0.054578471346823296 -- rotation mean square error: 0.027340812824943637 -- position mean absolute error: 0.15714189504485204 -- rotation mean absolute error: 0.12931168307639446\n",
      "52/52 [==============================] - 4s 74ms/step - loss: 0.2909 - mean_absolute_error: 0.2149 - val_loss: 0.1967 - val_mean_absolute_error: 0.1432\n",
      "position mean square error: 0.06093174526447344 -- rotation mean square error: 0.015483301986004809 -- position mean absolute error: 0.17685595917853764 -- rotation mean absolute error: 0.07588187674759851\n",
      "52/52 [==============================] - 3s 67ms/step - loss: 0.2735 - mean_absolute_error: 0.2017 - val_loss: 0.2074 - val_mean_absolute_error: 0.1519\n",
      "position mean square error: 0.05811897540322852 -- rotation mean square error: 0.02733138435693537 -- position mean absolute error: 0.17324380390568062 -- rotation mean absolute error: 0.10917705421865834\n",
      "52/52 [==============================] - 3s 67ms/step - loss: 0.2725 - mean_absolute_error: 0.2030 - val_loss: 0.2314 - val_mean_absolute_error: 0.1679\n",
      "position mean square error: 0.06783967759881289 -- rotation mean square error: 0.022209596704096685 -- position mean absolute error: 0.20349211918208915 -- rotation mean absolute error: 0.09658921222330764\n",
      "52/52 [==============================] - 4s 68ms/step - loss: 0.2551 - mean_absolute_error: 0.1890 - val_loss: 0.3141 - val_mean_absolute_error: 0.2345\n",
      "position mean square error: 0.10265049751057667 -- rotation mean square error: 0.04683287342646129 -- position mean absolute error: 0.2646494696013133 -- rotation mean absolute error: 0.17408835814127355\n",
      "52/52 [==============================] - 4s 67ms/step - loss: 0.2565 - mean_absolute_error: 0.1879 - val_loss: 0.2198 - val_mean_absolute_error: 0.1636\n",
      "position mean square error: 0.058007266980021586 -- rotation mean square error: 0.026503941858064966 -- position mean absolute error: 0.18304271990347604 -- rotation mean absolute error: 0.12469254810929023\n"
     ]
    }
   ],
   "source": [
    "model= m.NN_Model()\n",
    "model.get_data(\"laser_log/laser_log2203w.csv\")\n",
    "\n",
    "beta=[0.4]\n",
    "drop=[0.6]\n",
    "epochs=50\n",
    "batch_size=16\n",
    "\n",
    "group_epochs=1\n",
    "\n",
    "results=[]\n",
    "min_pos_error=0.3\n",
    "\n",
    "for i in beta:\n",
    "    for j in drop:\n",
    "        #with sess.as_default():\n",
    "            model.model_define(drop_rate=j)\n",
    "            model.set_beta(i)\n",
    "            model.model_compile(\"adam\",model.pos_loss,['mean_absolute_error'])\n",
    "            for step in range(epochs//group_epochs):\n",
    "                history = model.model_run(group_epochs,batch_size, verbose=1)\n",
    "                pos_mse,rot_mse,pos_mae,rot_mae = model.get_error(verbose=1)\n",
    "                results.append({\"beta\":i,\"drop-out\":j,\"epochs\":(step+1)*group_epochs,\"history\":history,\"position squared error\":pos_mse, \"rotation squared error\":rot_mse, \"position absolute error\":pos_mae, \"rotation absolute error\":rot_mae})  \n",
    "                if pos_mae < min_pos_error:\n",
    "                    model.model_cnn.save_weights(\"models/cp-epoch-train.ckpt\")\n",
    "                    min_pos_error=pos_mae"
   ]
  },
  {
   "cell_type": "code",
   "execution_count": 4,
   "metadata": {},
   "outputs": [],
   "source": [
    "with open('test46k.csv', 'w') as f:\n",
    "    f.write(\"beta;dropout;epochs;pos_mse;pos_mae;rot_mse;rot_mae\\n\")\n",
    "    for item in results:\n",
    "        f.write(\"{};{};{};{};{};{};{}\\n\".format(item[\"beta\"],item[\"drop-out\"],item[\"epochs\"],item[\"position squared error\"],item[\"position absolute error\"],item[\"rotation squared error\"],item[\"rotation absolute error\"]))"
   ]
  },
  {
   "cell_type": "markdown",
   "metadata": {},
   "source": [
    "#Valutation"
   ]
  },
  {
   "cell_type": "code",
   "execution_count": 3,
   "metadata": {},
   "outputs": [
    {
     "name": "stderr",
     "output_type": "stream",
     "text": [
      "2022-03-23 14:17:23.462731: W tensorflow/core/util/tensor_slice_reader.cc:96] Could not open models/cp-epoch-train.ckpt: FAILED_PRECONDITION: models/cp-epoch-train.ckpt; Is a directory: perhaps your file is in a different file format and you need to use a different restore operator?\n"
     ]
    },
    {
     "data": {
      "text/plain": [
       "<tensorflow.python.training.tracking.util.CheckpointLoadStatus at 0x7f77cc7e6ac0>"
      ]
     },
     "execution_count": 3,
     "metadata": {},
     "output_type": "execute_result"
    }
   ],
   "source": [
    "model.model_cnn.load_weights(\"models/cp-epoch-train.ckpt\")"
   ]
  },
  {
   "cell_type": "code",
   "execution_count": 4,
   "metadata": {},
   "outputs": [],
   "source": [
    "data_test = m.DAO(\"laser_log/laser_log2203w.csv\")\n",
    "\n",
    "data_test.read()\n",
    "data_test.divide_data(0.25)\n",
    "\n",
    "data_tensor_test=m.DAO()\n",
    "\n",
    "data_tensor_test.TR_features=tf.reshape(data_test.TR_features,[-1,720,1,1])\n",
    "data_tensor_test.TS_features=tf.reshape(data_test.TS_features,[-1,720,1,1])\n",
    "data_tensor_test.TR_targets=tf.reshape(data_test.TR_targets,[-1,3])\n",
    "data_tensor_test.TS_targets=tf.reshape(data_test.TS_targets,[-1,3])\n",
    "\n"
   ]
  },
  {
   "cell_type": "code",
   "execution_count": 26,
   "metadata": {},
   "outputs": [],
   "source": [
    "result = model.model_cnn.predict(data_tensor_test.TS_features)\n",
    "pos_test = result[:,0:2]\n",
    "rot_test = result[:,2]\n",
    "pos_real = np.array([data_test.TS_targets[\"pos_x\"].to_list(),data_test.TS_targets[\"pos_y\"].to_list()]).T\n",
    "rot_real = (data_test.TS_targets[\"pos_yaw\"]).to_numpy()"
   ]
  },
  {
   "cell_type": "code",
   "execution_count": 24,
   "metadata": {},
   "outputs": [],
   "source": [
    "pos_mae = mean_squared_error(pos_real,pos_test)\n",
    "rot_mae = mean_absolute_error(rot_real,rot_test)"
   ]
  },
  {
   "cell_type": "code",
   "execution_count": 27,
   "metadata": {},
   "outputs": [],
   "source": [
    "with open('predict_data2.csv', 'w') as f:\n",
    "    for i in range(len(rot_real)):\n",
    "        f.write(\"{};{};{};{};{};{}\\n\".format(pos_real[i][0],pos_real[i][1],rot_real[i],pos_test[i][0],pos_test[i][1],rot_test[i]))"
   ]
  }
 ],
 "metadata": {
  "interpreter": {
   "hash": "36cf16204b8548560b1c020c4e8fb5b57f0e4c58016f52f2d4be01e192833930"
  },
  "kernelspec": {
   "display_name": "Python 3.9.10 64-bit",
   "name": "python3"
  },
  "language_info": {
   "codemirror_mode": {
    "name": "ipython",
    "version": 3
   },
   "file_extension": ".py",
   "mimetype": "text/x-python",
   "name": "python",
   "nbconvert_exporter": "python",
   "pygments_lexer": "ipython3",
   "version": "3.9.11"
  },
  "orig_nbformat": 4
 },
 "nbformat": 4,
 "nbformat_minor": 2
}
