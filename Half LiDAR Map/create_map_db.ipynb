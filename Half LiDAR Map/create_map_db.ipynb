{
 "cells": [
  {
   "cell_type": "markdown",
   "metadata": {},
   "source": [
    "This notebook has all the methods that permits to manage an image and to create an artificial LiDAR instance"
   ]
  },
  {
   "cell_type": "code",
   "execution_count": 1,
   "metadata": {},
   "outputs": [],
   "source": [
    "from skimage import io\n",
    "import pandas as pd\n",
    "import numpy as np\n",
    "import matplotlib.pyplot as plt"
   ]
  },
  {
   "cell_type": "code",
   "execution_count": 2,
   "metadata": {},
   "outputs": [],
   "source": [
    "map_img = io.imread(\"data/my_map.png\",)"
   ]
  },
  {
   "cell_type": "code",
   "execution_count": 3,
   "metadata": {},
   "outputs": [],
   "source": [
    "#function of the creation of the instace LiDAR\n",
    "\n",
    "def create_lidar(x, y, r, map):\n",
    "    #correzione assi\n",
    "    #x=map.shape[0]-x-1\n",
    "    #r=r-180\n",
    "\n",
    "    #if the position of the image is not a free space (obstacle or unknown) it returns None\n",
    "    if map[x][y] != 254:\n",
    "        return None\n",
    "    else:\n",
    "        #create an artificial LiDAR based on the neibourhood pixels\n",
    "        result = look_around(map,x,y,r,int(20/0.05))\n",
    "        return result\n",
    "\n",
    "def look_around(map,x,y,r,dist):\n",
    "    result = {}\n",
    "\n",
    "    for i in range(720):\n",
    "        angle = ((i + r) % 720)\n",
    "        lidar_range = get_range(map, x, y, np.radians(angle/2),dist)\n",
    "        result[\"range{}\".format(i)] = lidar_range*0.05\n",
    "        result[\"angle{}\".format(i)] = np.around(np.radians((i-360)/2),decimals=5)  \n",
    "\n",
    "    return result\n",
    "\n",
    "def get_range(map,x,y,rad,dist):\n",
    "\n",
    "    for i in range(dist):\n",
    "        x_range = np.cos(rad) * i\n",
    "        y_range = np.sin(rad) * i\n",
    "        if map[x+int(x_range)][y+int(y_range)] != 254:\n",
    "            break\n",
    "\n",
    "    if map[x+int(x_range)][y+int(y_range)] == 0:\n",
    "        \n",
    "        return min(np.sqrt((np.power(int(x_range),2))+(np.power(int(y_range),2))), dist)\n",
    "    \n",
    "    return dist"
   ]
  },
  {
   "cell_type": "code",
   "execution_count": 4,
   "metadata": {},
   "outputs": [],
   "source": [
    "instances= []\n",
    "\n",
    "width = map_img.shape[0]\n",
    "heigh = map_img.shape[1]"
   ]
  },
  {
   "cell_type": "markdown",
   "metadata": {},
   "source": [
    "#random position/rotation generator"
   ]
  },
  {
   "cell_type": "code",
   "execution_count": null,
   "metadata": {},
   "outputs": [],
   "source": [
    "#multi rot position\n",
    "\n",
    "tot_inst= 2350\n",
    "\n",
    "while len(instances) < tot_inst:\n",
    "    i = np.random.randint(0,width)\n",
    "    j = np.random.randint(0,heigh)\n",
    "    rep = np.random.randint(1,15)\n",
    "    for c in range(rep):\n",
    "        r = np.random.randint(-360,360)\n",
    "        result = create_lidar(i,j,r,map_img)\n",
    "        if result is not None:\n",
    "            instances.append([result,i*0.05,j*0.05,np.radians(r/2)])\n",
    "            print(len(instances))"
   ]
  },
  {
   "cell_type": "markdown",
   "metadata": {},
   "source": [
    "#get path from file"
   ]
  },
  {
   "cell_type": "code",
   "execution_count": null,
   "metadata": {},
   "outputs": [],
   "source": [
    "with open(\"data/laser_log2303.csv\", \"r\") as data:\n",
    "    laser_db = pd.read_csv(data, delimiter=\";\").copy()"
   ]
  },
  {
   "cell_type": "code",
   "execution_count": 15,
   "metadata": {},
   "outputs": [],
   "source": [
    "trail = []\n",
    "for i in laser_db.values:\n",
    "    if i[2] == -3.14159:\n",
    "        trail.append(i[4:7])"
   ]
  },
  {
   "cell_type": "code",
   "execution_count": null,
   "metadata": {},
   "outputs": [],
   "source": [
    "instances = []\n",
    "\n",
    "#for n in range(3):\n",
    "for i in range(120):\n",
    "    for j in range(4):\n",
    "        x = i+3\n",
    "        y = j+60\n",
    "        r = 0#np.random.randint(-360,360)\n",
    "        laser_art = create_lidar(x,y,r,map_img)\n",
    "        instances.append([laser_art,x*0.05,y*0.05,np.radians(r/2)])\n",
    "        print(len(instances))"
   ]
  },
  {
   "cell_type": "code",
   "execution_count": null,
   "metadata": {},
   "outputs": [],
   "source": [
    "instances = []\n",
    "c=0\n",
    "\n",
    "for i in trail:\n",
    "    x = int(i[1]//0.05)\n",
    "    y = int(i[0]//0.05)\n",
    "    laser_art = create_lidar(x,y,((np.degrees(i[2])*2)),map_img)\n",
    "    instances.append([laser_art,i[1],i[0],i[2]])\n",
    "    print(c)\n",
    "    c+=1\n"
   ]
  },
  {
   "cell_type": "markdown",
   "metadata": {},
   "source": [
    "#save instances"
   ]
  },
  {
   "cell_type": "code",
   "execution_count": 6,
   "metadata": {},
   "outputs": [],
   "source": [
    "with open('datasetmymap_multirot.csv', 'w') as f:\n",
    "    f.write(\"cnt;time;angle;range;pos_x;pos_y;pos_yaw\\n\")\n",
    "    c=1.0\n",
    "    for item in instances:\n",
    "        \n",
    "        for i in range(720):\n",
    "            if item[0] is not None:\n",
    "                f.write(\"{};0;{};{};{};{};{}\\n\".format(c,item[0][\"angle{}\".format(i)],item[0][\"range{}\".format(i)],item[2],item[1],item[3]))\n",
    "        \n",
    "        c += 1"
   ]
  },
  {
   "cell_type": "markdown",
   "metadata": {},
   "source": [
    "Refactor data"
   ]
  },
  {
   "cell_type": "code",
   "execution_count": 5,
   "metadata": {},
   "outputs": [],
   "source": [
    "import pandas as pd\n",
    "\n",
    "with open(\"data/datasetmymap(3-123,60-64)_unidir.csv\", \"r\") as data:\n",
    "    laser_db = pd.read_csv(data, delimiter=\";\").copy()\n",
    "\n",
    "laser_db.loc[:,\"pos_x\"] = laser_db.loc[:,\"pos_x\"] * 0.05\n",
    "laser_db.loc[:,\"pos_y\"] = laser_db.loc[:,\"pos_y\"] * 0.05"
   ]
  },
  {
   "cell_type": "code",
   "execution_count": 6,
   "metadata": {},
   "outputs": [],
   "source": [
    "with open('datasetmymap(3-123,60-64)_unidir.csv', 'w') as f:\n",
    "    f.write(\"cnt;time;angle;range;pos_x;pos_y;pos_yaw\\n\")\n",
    "    for item in laser_db.values:\n",
    "        \n",
    "        f.write(\"{};{};{};{};{};{};{}\\n\".format(item[0],item[1],item[2],item[3],item[4],item[5],item[6]))"
   ]
  }
 ],
 "metadata": {
  "interpreter": {
   "hash": "36cf16204b8548560b1c020c4e8fb5b57f0e4c58016f52f2d4be01e192833930"
  },
  "kernelspec": {
   "display_name": "Python 3.9.11 64-bit",
   "language": "python",
   "name": "python3"
  },
  "language_info": {
   "codemirror_mode": {
    "name": "ipython",
    "version": 3
   },
   "file_extension": ".py",
   "mimetype": "text/x-python",
   "name": "python",
   "nbconvert_exporter": "python",
   "pygments_lexer": "ipython3",
   "version": "3.9.11"
  },
  "orig_nbformat": 4
 },
 "nbformat": 4,
 "nbformat_minor": 2
}
