{
 "cells": [
  {
   "cell_type": "code",
   "execution_count": 1,
   "metadata": {},
   "outputs": [],
   "source": [
    "import tensorflow as tf\n",
    "from tensorflow.keras import layers, models, backend\n",
    "import matplotlib.pyplot as plt\n",
    "import numpy as np"
   ]
  },
  {
   "cell_type": "code",
   "execution_count": 18,
   "metadata": {},
   "outputs": [],
   "source": [
    "def model_define(drop_rate):\n",
    "\n",
    "    model = models.Model()\n",
    "\n",
    "    laser_input = (720,1,1)\n",
    "    map_input = (428,288,1)\n",
    "\n",
    "    model_laser = models.Sequential()\n",
    "    model_laser.add(layers.Conv2D(\n",
    "        32, (11,1), padding=\"same\", input_shape=laser_input,\n",
    "        name=\"laser_conv_1\" ))\n",
    "    model_laser.add(layers.Conv2D(\n",
    "        64, kernel_size=(5,1), padding=\"same\",\n",
    "        name=\"laser_conv_2\" ))\n",
    "    model_laser.add(layers.MaxPooling2D(\n",
    "            (2,1), strides=2, padding=\"same\",\n",
    "            name=\"laser_pool_1\" ))\n",
    "    model_laser.add(layers.Conv2D(\n",
    "            256, kernel_size=(5,1), padding=\"same\",\n",
    "            name=\"laser_conv_3\" ))\n",
    "    model_laser.add(layers.MaxPooling2D(\n",
    "            (2,1), strides=2, padding=\"same\",\n",
    "            name=\"laser_pool_2\" ))\n",
    "    model_laser.add(layers.Flatten())\n",
    "    \n",
    "\n",
    "    model_map = models.Sequential()\n",
    "    \n",
    "    model_map.add(layers.Conv2D(\n",
    "            64, kernel_size=(5,1), input_shape=map_input,\n",
    "            name=\"map_conv_2\" ))\n",
    "    model_map.add(layers.AveragePooling2D(\n",
    "            (2,1), strides=2,\n",
    "            name=\"map_pool_1\" ))\n",
    "    model_map.add(layers.Conv2D(\n",
    "            256, kernel_size=(5,1),\n",
    "            name=\"map_conv_3\" ))\n",
    "    model_map.add(layers.AveragePooling2D(\n",
    "            (2,1), strides=2,\n",
    "            name=\"map_pool_2\" ))\n",
    "    model_map.add(layers.Flatten())\n",
    "\n",
    "    model_dense = models.Sequential()\n",
    "    model_dense.add(layers.Dropout(drop_rate))\n",
    "    model_dense.add(layers.Dense(1024, activation=\"relu\", name=\"dense_1\"))\n",
    "    model_dense.add(layers.Dense(128, activation=\"relu\", name=\"dense_2\"))\n",
    "    model_dense.add(layers.Dense(3, name=\"dense_3\"))\n",
    "    \n",
    "\n",
    "    laser_output = model_laser(tf.ones(((1,720,1,1))))\n",
    "    map_output = model_map(tf.ones((1,428,288,1)))\n",
    "\n",
    "    cnn_output = layers.Add()([laser_output,map_output])\n",
    "    \n",
    "    output_ = model_dense(cnn_output)\n",
    "\n",
    "    model = models.Model([laser_input,map_input],output_,name=\"model\")\n",
    "\n",
    "    return model\n",
    "\n",
    "beta = 0.2\n",
    "\n",
    "def pos_loss(y_actual, y_pred):\n",
    "        loss_value = (1-beta)*(backend.sqrt(backend.pow((y_actual[:,0]-y_pred[:,0]),2)+backend.pow((y_actual[:,1]-y_pred[:,1]),2)))+(beta*(backend.abs(y_actual[:,2]-y_pred[:,2])))\n",
    "        return loss_value"
   ]
  },
  {
   "cell_type": "code",
   "execution_count": 19,
   "metadata": {},
   "outputs": [
    {
     "ename": "ValueError",
     "evalue": "Inputs have incompatible shapes. Received shapes (46080,) and (1916928,)",
     "output_type": "error",
     "traceback": [
      "\u001b[0;31m---------------------------------------------------------------------------\u001b[0m",
      "\u001b[0;31mValueError\u001b[0m                                Traceback (most recent call last)",
      "Input \u001b[0;32mIn [19]\u001b[0m, in \u001b[0;36m<cell line: 1>\u001b[0;34m()\u001b[0m\n\u001b[0;32m----> 1\u001b[0m model \u001b[39m=\u001b[39m model_define(\u001b[39m0.6\u001b[39;49m)\n",
      "\u001b[1;32m/home/ait_guest/Desktop/LP_thesis/Codice/thesis_AITronik/LiDAR Map/define_model.ipynb Cell 3'\u001b[0m in \u001b[0;36mmodel_define\u001b[0;34m(drop_rate)\u001b[0m\n\u001b[1;32m     <a href='vscode-notebook-cell:/home/ait_guest/Desktop/LP_thesis/Codice/thesis_AITronik/LiDAR%20Map/define_model.ipynb#ch0000002?line=49'>50</a>\u001b[0m laser_output \u001b[39m=\u001b[39m model_laser(tf\u001b[39m.\u001b[39mones(((\u001b[39m1\u001b[39m,\u001b[39m720\u001b[39m,\u001b[39m1\u001b[39m,\u001b[39m1\u001b[39m))))\n\u001b[1;32m     <a href='vscode-notebook-cell:/home/ait_guest/Desktop/LP_thesis/Codice/thesis_AITronik/LiDAR%20Map/define_model.ipynb#ch0000002?line=50'>51</a>\u001b[0m map_output \u001b[39m=\u001b[39m model_map(tf\u001b[39m.\u001b[39mones((\u001b[39m1\u001b[39m,\u001b[39m428\u001b[39m,\u001b[39m288\u001b[39m,\u001b[39m1\u001b[39m)))\n\u001b[0;32m---> <a href='vscode-notebook-cell:/home/ait_guest/Desktop/LP_thesis/Codice/thesis_AITronik/LiDAR%20Map/define_model.ipynb#ch0000002?line=52'>53</a>\u001b[0m cnn_output \u001b[39m=\u001b[39m layers\u001b[39m.\u001b[39;49mAdd()([laser_output,map_output])\n\u001b[1;32m     <a href='vscode-notebook-cell:/home/ait_guest/Desktop/LP_thesis/Codice/thesis_AITronik/LiDAR%20Map/define_model.ipynb#ch0000002?line=54'>55</a>\u001b[0m output_ \u001b[39m=\u001b[39m model_dense(cnn_output)\n\u001b[1;32m     <a href='vscode-notebook-cell:/home/ait_guest/Desktop/LP_thesis/Codice/thesis_AITronik/LiDAR%20Map/define_model.ipynb#ch0000002?line=56'>57</a>\u001b[0m model \u001b[39m=\u001b[39m models\u001b[39m.\u001b[39mModel([laser_input,map_input],output_,name\u001b[39m=\u001b[39m\u001b[39m\"\u001b[39m\u001b[39mmodel\u001b[39m\u001b[39m\"\u001b[39m)\n",
      "File \u001b[0;32m~/.local/lib/python3.9/site-packages/keras/utils/traceback_utils.py:67\u001b[0m, in \u001b[0;36mfilter_traceback.<locals>.error_handler\u001b[0;34m(*args, **kwargs)\u001b[0m\n\u001b[1;32m     <a href='file:///home/ait_guest/.local/lib/python3.9/site-packages/keras/utils/traceback_utils.py?line=64'>65</a>\u001b[0m \u001b[39mexcept\u001b[39;00m \u001b[39mException\u001b[39;00m \u001b[39mas\u001b[39;00m e:  \u001b[39m# pylint: disable=broad-except\u001b[39;00m\n\u001b[1;32m     <a href='file:///home/ait_guest/.local/lib/python3.9/site-packages/keras/utils/traceback_utils.py?line=65'>66</a>\u001b[0m   filtered_tb \u001b[39m=\u001b[39m _process_traceback_frames(e\u001b[39m.\u001b[39m__traceback__)\n\u001b[0;32m---> <a href='file:///home/ait_guest/.local/lib/python3.9/site-packages/keras/utils/traceback_utils.py?line=66'>67</a>\u001b[0m   \u001b[39mraise\u001b[39;00m e\u001b[39m.\u001b[39mwith_traceback(filtered_tb) \u001b[39mfrom\u001b[39;00m \u001b[39mNone\u001b[39m\n\u001b[1;32m     <a href='file:///home/ait_guest/.local/lib/python3.9/site-packages/keras/utils/traceback_utils.py?line=67'>68</a>\u001b[0m \u001b[39mfinally\u001b[39;00m:\n\u001b[1;32m     <a href='file:///home/ait_guest/.local/lib/python3.9/site-packages/keras/utils/traceback_utils.py?line=68'>69</a>\u001b[0m   \u001b[39mdel\u001b[39;00m filtered_tb\n",
      "File \u001b[0;32m~/.local/lib/python3.9/site-packages/keras/layers/merge.py:78\u001b[0m, in \u001b[0;36m_Merge._compute_elemwise_op_output_shape\u001b[0;34m(self, shape1, shape2)\u001b[0m\n\u001b[1;32m     <a href='file:///home/ait_guest/.local/lib/python3.9/site-packages/keras/layers/merge.py?line=75'>76</a>\u001b[0m   \u001b[39melse\u001b[39;00m:\n\u001b[1;32m     <a href='file:///home/ait_guest/.local/lib/python3.9/site-packages/keras/layers/merge.py?line=76'>77</a>\u001b[0m     \u001b[39mif\u001b[39;00m i \u001b[39m!=\u001b[39m j:\n\u001b[0;32m---> <a href='file:///home/ait_guest/.local/lib/python3.9/site-packages/keras/layers/merge.py?line=77'>78</a>\u001b[0m       \u001b[39mraise\u001b[39;00m \u001b[39mValueError\u001b[39;00m(\n\u001b[1;32m     <a href='file:///home/ait_guest/.local/lib/python3.9/site-packages/keras/layers/merge.py?line=78'>79</a>\u001b[0m           \u001b[39m'\u001b[39m\u001b[39mInputs have incompatible shapes. \u001b[39m\u001b[39m'\u001b[39m\n\u001b[1;32m     <a href='file:///home/ait_guest/.local/lib/python3.9/site-packages/keras/layers/merge.py?line=79'>80</a>\u001b[0m           \u001b[39mf\u001b[39m\u001b[39m'\u001b[39m\u001b[39mReceived shapes \u001b[39m\u001b[39m{\u001b[39;00mshape1\u001b[39m}\u001b[39;00m\u001b[39m and \u001b[39m\u001b[39m{\u001b[39;00mshape2\u001b[39m}\u001b[39;00m\u001b[39m'\u001b[39m)\n\u001b[1;32m     <a href='file:///home/ait_guest/.local/lib/python3.9/site-packages/keras/layers/merge.py?line=80'>81</a>\u001b[0m     output_shape\u001b[39m.\u001b[39mappend(i)\n\u001b[1;32m     <a href='file:///home/ait_guest/.local/lib/python3.9/site-packages/keras/layers/merge.py?line=81'>82</a>\u001b[0m \u001b[39mreturn\u001b[39;00m \u001b[39mtuple\u001b[39m(output_shape)\n",
      "\u001b[0;31mValueError\u001b[0m: Inputs have incompatible shapes. Received shapes (46080,) and (1916928,)"
     ]
    }
   ],
   "source": [
    "model = model_define(0.6)"
   ]
  },
  {
   "cell_type": "code",
   "execution_count": null,
   "metadata": {},
   "outputs": [],
   "source": [
    "model_cnn.compile(optimizer = \"adam\",\n",
    "    loss=pos_loss,\n",
    "    metrics=['mean_absolute_error'])"
   ]
  }
 ],
 "metadata": {
  "interpreter": {
   "hash": "36cf16204b8548560b1c020c4e8fb5b57f0e4c58016f52f2d4be01e192833930"
  },
  "kernelspec": {
   "display_name": "Python 3.9.11 64-bit",
   "language": "python",
   "name": "python3"
  },
  "language_info": {
   "codemirror_mode": {
    "name": "ipython",
    "version": 3
   },
   "file_extension": ".py",
   "mimetype": "text/x-python",
   "name": "python",
   "nbconvert_exporter": "python",
   "pygments_lexer": "ipython3",
   "version": "3.9.11"
  },
  "orig_nbformat": 4
 },
 "nbformat": 4,
 "nbformat_minor": 2
}
