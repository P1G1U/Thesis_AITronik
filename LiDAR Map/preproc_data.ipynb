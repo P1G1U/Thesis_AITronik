{
 "cells": [
  {
   "cell_type": "code",
   "execution_count": 1,
   "metadata": {},
   "outputs": [],
   "source": [
    "from skimage import io\n",
    "import pandas as pd\n",
    "import matplotlib.pyplot as plt\n",
    "import numpy as np"
   ]
  },
  {
   "cell_type": "code",
   "execution_count": 2,
   "metadata": {},
   "outputs": [],
   "source": [
    "with open(\"data/datasetnowall.csv\", \"r\") as data:\n",
    "    laser_db = pd.read_csv(data, delimiter=\";\").copy()"
   ]
  },
  {
   "cell_type": "code",
   "execution_count": 3,
   "metadata": {},
   "outputs": [],
   "source": [
    "def uniform_rotation(db):\n",
    "    unidir_map = []\n",
    "    counter = 0\n",
    "    buffer = []\n",
    "    corr_angle = 0\n",
    "\n",
    "    for i in db:\n",
    "        i[2] = np.around((((i[2]+i[6]) + np.pi) % (2*np.pi))-np.pi,decimals=5)\n",
    "        i[6] = 0\n",
    "        buffer.append(i)\n",
    "        if counter == 719:\n",
    "            if corr_angle != 0:\n",
    "                for j in range(720):\n",
    "                    buffer[(j+corr_angle)%720][2]=np.radians((j-360)/2)\n",
    "\n",
    "            buffer.sort(key= lambda i:i[2])\n",
    "            unidir_map.append(buffer.copy())\n",
    "            counter = 0\n",
    "            buffer = []\n",
    "        else:\n",
    "            counter += 1\n",
    "\n",
    "    return unidir_map"
   ]
  },
  {
   "cell_type": "code",
   "execution_count": 4,
   "metadata": {},
   "outputs": [],
   "source": [
    "laser_db_unidir = uniform_rotation(laser_db.values)"
   ]
  },
  {
   "cell_type": "code",
   "execution_count": 5,
   "metadata": {},
   "outputs": [],
   "source": [
    "with open('datasetnowall_unidir.csv', 'w') as f:\n",
    "    f.write(\"cnt;time;angle;range;pos_x;pos_y;pos_yaw\\n\")\n",
    "    for laser in laser_db_unidir:\n",
    "        for item in laser:\n",
    "            f.write(\"{};{};{};{};{};{};{}\\n\".format(item[0],item[1],item[2],item[3],item[4],item[5],item[6]))\n",
    "       "
   ]
  }
 ],
 "metadata": {
  "interpreter": {
   "hash": "36cf16204b8548560b1c020c4e8fb5b57f0e4c58016f52f2d4be01e192833930"
  },
  "kernelspec": {
   "display_name": "Python 3.9.11 64-bit",
   "language": "python",
   "name": "python3"
  },
  "language_info": {
   "codemirror_mode": {
    "name": "ipython",
    "version": 3
   },
   "file_extension": ".py",
   "mimetype": "text/x-python",
   "name": "python",
   "nbconvert_exporter": "python",
   "pygments_lexer": "ipython3",
   "version": "3.9.11"
  },
  "orig_nbformat": 4
 },
 "nbformat": 4,
 "nbformat_minor": 2
}
