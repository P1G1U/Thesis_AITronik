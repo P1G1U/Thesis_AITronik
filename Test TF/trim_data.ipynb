{
 "cells": [
  {
   "cell_type": "markdown",
   "metadata": {},
   "source": [
    "#Import file"
   ]
  },
  {
   "cell_type": "code",
   "execution_count": 41,
   "metadata": {},
   "outputs": [],
   "source": [
    "import pandas as pd\n",
    "import numpy as np\n",
    "import os\n",
    "import matplotlib.pyplot as plt"
   ]
  },
  {
   "cell_type": "code",
   "execution_count": 42,
   "metadata": {},
   "outputs": [
    {
     "data": {
      "text/html": [
       "<div>\n",
       "<style scoped>\n",
       "    .dataframe tbody tr th:only-of-type {\n",
       "        vertical-align: middle;\n",
       "    }\n",
       "\n",
       "    .dataframe tbody tr th {\n",
       "        vertical-align: top;\n",
       "    }\n",
       "\n",
       "    .dataframe thead th {\n",
       "        text-align: right;\n",
       "    }\n",
       "</style>\n",
       "<table border=\"1\" class=\"dataframe\">\n",
       "  <thead>\n",
       "    <tr style=\"text-align: right;\">\n",
       "      <th></th>\n",
       "      <th>cnt</th>\n",
       "      <th>time[ns]</th>\n",
       "      <th>angle[rad]</th>\n",
       "      <th>range[m]</th>\n",
       "      <th>pos_x</th>\n",
       "      <th>pos_y</th>\n",
       "      <th>pos_yaw</th>\n",
       "    </tr>\n",
       "  </thead>\n",
       "  <tbody>\n",
       "    <tr>\n",
       "      <th>0</th>\n",
       "      <td>1</td>\n",
       "      <td>234629000000</td>\n",
       "      <td>-3.14159</td>\n",
       "      <td>inf</td>\n",
       "      <td>6.20428</td>\n",
       "      <td>10.1687</td>\n",
       "      <td>-0.001815</td>\n",
       "    </tr>\n",
       "    <tr>\n",
       "      <th>1</th>\n",
       "      <td>1</td>\n",
       "      <td>234629000000</td>\n",
       "      <td>-3.13285</td>\n",
       "      <td>inf</td>\n",
       "      <td>6.20428</td>\n",
       "      <td>10.1687</td>\n",
       "      <td>-0.001815</td>\n",
       "    </tr>\n",
       "    <tr>\n",
       "      <th>2</th>\n",
       "      <td>1</td>\n",
       "      <td>234629000000</td>\n",
       "      <td>-3.12411</td>\n",
       "      <td>inf</td>\n",
       "      <td>6.20428</td>\n",
       "      <td>10.1687</td>\n",
       "      <td>-0.001815</td>\n",
       "    </tr>\n",
       "    <tr>\n",
       "      <th>3</th>\n",
       "      <td>1</td>\n",
       "      <td>234629000000</td>\n",
       "      <td>-3.11537</td>\n",
       "      <td>inf</td>\n",
       "      <td>6.20428</td>\n",
       "      <td>10.1687</td>\n",
       "      <td>-0.001815</td>\n",
       "    </tr>\n",
       "    <tr>\n",
       "      <th>4</th>\n",
       "      <td>1</td>\n",
       "      <td>234629000000</td>\n",
       "      <td>-3.10664</td>\n",
       "      <td>inf</td>\n",
       "      <td>6.20428</td>\n",
       "      <td>10.1687</td>\n",
       "      <td>-0.001815</td>\n",
       "    </tr>\n",
       "  </tbody>\n",
       "</table>\n",
       "</div>"
      ],
      "text/plain": [
       "   cnt      time[ns]  angle[rad]  range[m]    pos_x    pos_y   pos_yaw\n",
       "0    1  234629000000    -3.14159       inf  6.20428  10.1687 -0.001815\n",
       "1    1  234629000000    -3.13285       inf  6.20428  10.1687 -0.001815\n",
       "2    1  234629000000    -3.12411       inf  6.20428  10.1687 -0.001815\n",
       "3    1  234629000000    -3.11537       inf  6.20428  10.1687 -0.001815\n",
       "4    1  234629000000    -3.10664       inf  6.20428  10.1687 -0.001815"
      ]
     },
     "execution_count": 42,
     "metadata": {},
     "output_type": "execute_result"
    }
   ],
   "source": [
    "with open(\"data/laser_log/laser_log.csv\", \"r\") as filename:\n",
    "    laser_db = pd.read_csv(filename, delimiter=\";\")\n",
    "\n",
    "laser_db.head()"
   ]
  },
  {
   "cell_type": "markdown",
   "metadata": {},
   "source": [
    "#Preprocessing data "
   ]
  },
  {
   "cell_type": "code",
   "execution_count": 4,
   "metadata": {},
   "outputs": [],
   "source": [
    "laser_inst= []\n",
    "inst = 1 #il counter delle istanze inizia da 1\n",
    "temp=[]\n",
    "\n",
    "for i in laser_db.values:\n",
    "    if i[0] == inst:\n",
    "        temp.append(i)\n",
    "    else:\n",
    "        laser_inst.append(temp)\n",
    "        temp=[]\n",
    "        temp.append(i)\n",
    "        inst+=1"
   ]
  },
  {
   "cell_type": "code",
   "execution_count": 11,
   "metadata": {},
   "outputs": [],
   "source": [
    "counter={}\n",
    "\n",
    "for i in laser_inst:\n",
    "    for j in i:\n",
    "        if(j[2] in counter.keys()):\n",
    "            counter[j[2]]+=1\n",
    "        else:\n",
    "            counter[j[2]]=1"
   ]
  },
  {
   "cell_type": "code",
   "execution_count": 4,
   "metadata": {},
   "outputs": [],
   "source": [
    "features = None\n",
    "targets = None"
   ]
  },
  {
   "cell_type": "code",
   "execution_count": 65,
   "metadata": {},
   "outputs": [],
   "source": [
    "features = laser_db.copy()\n"
   ]
  },
  {
   "cell_type": "code",
   "execution_count": 84,
   "metadata": {},
   "outputs": [],
   "source": [
    "laser_inst= pd.DataFrame()\n",
    "target_list= pd.DataFrame()\n",
    "inst = 1 #il counter delle istanze inizia da 1\n",
    "inst_angle=[]\n",
    "inst_range=[]\n",
    "target_inst=pd.Series(dtype=\"float64\")\n",
    "\n",
    "for i in features.values:\n",
    "    if i[0] == inst:\n",
    "        inst_angle.append(i[2])\n",
    "        inst_range.append(i[3])\n",
    "    else:\n",
    "        if False:\n",
    "            inst_time[\"time\"] = i[1]\n",
    "            inst_time.name= inst\n",
    "        temp= pd.Series([inst_angle,inst_range], name=inst)\n",
    "        laser_inst= pd.concat([laser_inst,temp], axis=1) \n",
    "        \n",
    "        target_inst[\"pos_x\"] = i[4]\n",
    "        target_inst[\"pos_y\"] = i[5]\n",
    "        target_inst[\"pos_yaw\"] = i[6]\n",
    "        target_inst.name= inst\n",
    "        #target_list=pd.concat([target_list,target_inst.array],axis=1)\n",
    "\n",
    "        inst_angle = []\n",
    "        inst_range = []\n",
    "\n",
    "        inst_angle.append(i[2])\n",
    "        inst_range.append(i[3])\n",
    "        inst+=1\n",
    "\n",
    "laser_inst = laser_inst.T\n",
    "target_list= target_list.T\n"
   ]
  },
  {
   "cell_type": "code",
   "execution_count": 85,
   "metadata": {},
   "outputs": [
    {
     "data": {
      "text/html": [
       "<div>\n",
       "<style scoped>\n",
       "    .dataframe tbody tr th:only-of-type {\n",
       "        vertical-align: middle;\n",
       "    }\n",
       "\n",
       "    .dataframe tbody tr th {\n",
       "        vertical-align: top;\n",
       "    }\n",
       "\n",
       "    .dataframe thead th {\n",
       "        text-align: right;\n",
       "    }\n",
       "</style>\n",
       "<table border=\"1\" class=\"dataframe\">\n",
       "  <thead>\n",
       "    <tr style=\"text-align: right;\">\n",
       "      <th></th>\n",
       "      <th>0</th>\n",
       "      <th>1</th>\n",
       "    </tr>\n",
       "  </thead>\n",
       "  <tbody>\n",
       "    <tr>\n",
       "      <th>1</th>\n",
       "      <td>[-3.14159, -3.13285, -3.12411, -3.11537, -3.10...</td>\n",
       "      <td>[inf, inf, inf, inf, inf, inf, inf, inf, inf, ...</td>\n",
       "    </tr>\n",
       "    <tr>\n",
       "      <th>2</th>\n",
       "      <td>[-3.14159, -3.13285, -3.12411, -3.11537, -3.10...</td>\n",
       "      <td>[inf, inf, inf, inf, inf, inf, inf, inf, inf, ...</td>\n",
       "    </tr>\n",
       "    <tr>\n",
       "      <th>3</th>\n",
       "      <td>[-3.14159, -3.13285, -3.12411, -3.11537, -3.10...</td>\n",
       "      <td>[inf, inf, inf, inf, inf, inf, inf, inf, inf, ...</td>\n",
       "    </tr>\n",
       "    <tr>\n",
       "      <th>4</th>\n",
       "      <td>[-3.14159, -3.13285, -3.12411, -3.11537, -3.10...</td>\n",
       "      <td>[inf, inf, inf, inf, inf, inf, inf, inf, inf, ...</td>\n",
       "    </tr>\n",
       "    <tr>\n",
       "      <th>5</th>\n",
       "      <td>[-3.14159, -3.13285, -3.12411, -3.11537, -3.10...</td>\n",
       "      <td>[inf, inf, inf, inf, inf, inf, inf, inf, inf, ...</td>\n",
       "    </tr>\n",
       "    <tr>\n",
       "      <th>...</th>\n",
       "      <td>...</td>\n",
       "      <td>...</td>\n",
       "    </tr>\n",
       "    <tr>\n",
       "      <th>900</th>\n",
       "      <td>[-3.14159, -3.13285, -3.12411, -3.11537, -3.10...</td>\n",
       "      <td>[inf, inf, inf, inf, inf, inf, inf, inf, inf, ...</td>\n",
       "    </tr>\n",
       "    <tr>\n",
       "      <th>901</th>\n",
       "      <td>[-3.14159, -3.13285, -3.12411, -3.11537, -3.10...</td>\n",
       "      <td>[inf, inf, inf, inf, inf, inf, inf, inf, inf, ...</td>\n",
       "    </tr>\n",
       "    <tr>\n",
       "      <th>902</th>\n",
       "      <td>[-3.14159, -3.13285, -3.12411, -3.11537, -3.10...</td>\n",
       "      <td>[inf, inf, inf, inf, inf, inf, inf, inf, inf, ...</td>\n",
       "    </tr>\n",
       "    <tr>\n",
       "      <th>903</th>\n",
       "      <td>[-3.14159, -3.13285, -3.12411, -3.11537, -3.10...</td>\n",
       "      <td>[inf, inf, inf, inf, inf, inf, inf, inf, inf, ...</td>\n",
       "    </tr>\n",
       "    <tr>\n",
       "      <th>904</th>\n",
       "      <td>[-3.14159, -3.13285, -3.12411, -3.11537, -3.10...</td>\n",
       "      <td>[inf, inf, inf, inf, inf, inf, inf, inf, inf, ...</td>\n",
       "    </tr>\n",
       "  </tbody>\n",
       "</table>\n",
       "<p>904 rows × 2 columns</p>\n",
       "</div>"
      ],
      "text/plain": [
       "                                                     0  \\\n",
       "1    [-3.14159, -3.13285, -3.12411, -3.11537, -3.10...   \n",
       "2    [-3.14159, -3.13285, -3.12411, -3.11537, -3.10...   \n",
       "3    [-3.14159, -3.13285, -3.12411, -3.11537, -3.10...   \n",
       "4    [-3.14159, -3.13285, -3.12411, -3.11537, -3.10...   \n",
       "5    [-3.14159, -3.13285, -3.12411, -3.11537, -3.10...   \n",
       "..                                                 ...   \n",
       "900  [-3.14159, -3.13285, -3.12411, -3.11537, -3.10...   \n",
       "901  [-3.14159, -3.13285, -3.12411, -3.11537, -3.10...   \n",
       "902  [-3.14159, -3.13285, -3.12411, -3.11537, -3.10...   \n",
       "903  [-3.14159, -3.13285, -3.12411, -3.11537, -3.10...   \n",
       "904  [-3.14159, -3.13285, -3.12411, -3.11537, -3.10...   \n",
       "\n",
       "                                                     1  \n",
       "1    [inf, inf, inf, inf, inf, inf, inf, inf, inf, ...  \n",
       "2    [inf, inf, inf, inf, inf, inf, inf, inf, inf, ...  \n",
       "3    [inf, inf, inf, inf, inf, inf, inf, inf, inf, ...  \n",
       "4    [inf, inf, inf, inf, inf, inf, inf, inf, inf, ...  \n",
       "5    [inf, inf, inf, inf, inf, inf, inf, inf, inf, ...  \n",
       "..                                                 ...  \n",
       "900  [inf, inf, inf, inf, inf, inf, inf, inf, inf, ...  \n",
       "901  [inf, inf, inf, inf, inf, inf, inf, inf, inf, ...  \n",
       "902  [inf, inf, inf, inf, inf, inf, inf, inf, inf, ...  \n",
       "903  [inf, inf, inf, inf, inf, inf, inf, inf, inf, ...  \n",
       "904  [inf, inf, inf, inf, inf, inf, inf, inf, inf, ...  \n",
       "\n",
       "[904 rows x 2 columns]"
      ]
     },
     "execution_count": 85,
     "metadata": {},
     "output_type": "execute_result"
    }
   ],
   "source": [
    "laser_inst"
   ]
  },
  {
   "cell_type": "code",
   "execution_count": 71,
   "metadata": {},
   "outputs": [
    {
     "name": "stderr",
     "output_type": "stream",
     "text": [
      "2022-03-15 15:44:09.369436: W tensorflow/stream_executor/platform/default/dso_loader.cc:64] Could not load dynamic library 'libcudart.so.11.0'; dlerror: libcudart.so.11.0: cannot open shared object file: No such file or directory\n",
      "2022-03-15 15:44:09.369475: I tensorflow/stream_executor/cuda/cudart_stub.cc:29] Ignore above cudart dlerror if you do not have a GPU set up on your machine.\n"
     ]
    }
   ],
   "source": [
    "from tensorflow.keras import layers, models\n",
    "from "
   ]
  },
  {
   "cell_type": "code",
   "execution_count": 72,
   "metadata": {},
   "outputs": [],
   "source": [
    "def model_define(features, drop_rate):\n",
    "\n",
    "    tf.summary.image(\"laser_inst\", features)\n",
    "\n",
    "    model = models.Sequential()\n",
    "\n",
    "    model.add(layers.Conv2D(\n",
    "        filters=32, kernel_size=3, padding=\"same\",\n",
    "        name=\"conv_1\" ))\n",
    "    model.add(layers.Conv2D(\n",
    "        filters=64, kernel_size=3, padding=\"same\",\n",
    "        name=\"conv_2\" ))\n",
    "    model.add(layers.MaxPooling2D(\n",
    "        pool_size=2, strides=2, padding=\"same\",\n",
    "        name=\"pool_1\" ))\n",
    "    model.add(layers.Conv2D(\n",
    "        filters=256, kernel_size=3, padding=\"same\",\n",
    "        name=\"conv_3\" ))\n",
    "    model.add(layers.MaxPooling2D(\n",
    "        pool_size=2, strides=2, padding=\"same\",\n",
    "        name=\"pool_2\" ))\n",
    "\n",
    "    model.add(layers.Flatten())\n",
    "\n",
    "    model.add(layers.Dropout(drop_rate))\n",
    "    model.add(layers.Dense(1024, name=\"dense_1\"))\n",
    "\n",
    "    model.add(layers.Dense(128, activation=\"relu\", name=\"dense_2\"))\n",
    "\n",
    "    model.add(layers.Dense(3, activation=\"relu\", name=\"dense_3\"))\n",
    "\n",
    "    return model"
   ]
  },
  {
   "cell_type": "code",
   "execution_count": null,
   "metadata": {},
   "outputs": [],
   "source": []
  }
 ],
 "metadata": {
  "interpreter": {
   "hash": "36cf16204b8548560b1c020c4e8fb5b57f0e4c58016f52f2d4be01e192833930"
  },
  "kernelspec": {
   "display_name": "Python 3.9.10 64-bit",
   "name": "python3"
  },
  "language_info": {
   "codemirror_mode": {
    "name": "ipython",
    "version": 3
   },
   "file_extension": ".py",
   "mimetype": "text/x-python",
   "name": "python",
   "nbconvert_exporter": "python",
   "pygments_lexer": "ipython3",
   "version": "3.9.10"
  },
  "orig_nbformat": 4
 },
 "nbformat": 4,
 "nbformat_minor": 2
}
